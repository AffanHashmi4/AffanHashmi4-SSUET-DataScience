{
 "cells": [
  {
   "cell_type": "code",
   "execution_count": 1,
   "metadata": {},
   "outputs": [],
   "source": [
    "with open(\"HelloWorld.txt\", \"w\") as file:\n",
    "    file.write(\" hello world :)\")"
   ]
  },
  {
   "cell_type": "code",
   "execution_count": 2,
   "metadata": {},
   "outputs": [],
   "source": [
    "with open(\"Bio_Data.txt\", \"w\") as file:\n",
    "    file.write(\"Name: Affan\\nClass: 8\\nAge: 13\\nSiblings: 2\")"
   ]
  },
  {
   "cell_type": "code",
   "execution_count": 3,
   "metadata": {},
   "outputs": [
    {
     "name": "stdout",
     "output_type": "stream",
     "text": [
      "Name: Affan\n",
      "Class: 8\n",
      "Age: 13\n",
      "Siblings: 2\n"
     ]
    }
   ],
   "source": [
    "with open(\"Bio_Data.txt\", \"r\") as file:\n",
    "    print(file.read())"
   ]
  },
  {
   "cell_type": "code",
   "execution_count": 4,
   "metadata": {},
   "outputs": [],
   "source": [
    "with open(\"Bio_Data.txt\", \"w\") as file:\n",
    "    file.write(\"Name: Affan Hashmi\\nClass: 8\\nAge: 13\\nSiblings: 2\\nFathername: Uzair\")"
   ]
  },
  {
   "cell_type": "code",
   "execution_count": 5,
   "metadata": {},
   "outputs": [
    {
     "name": "stdout",
     "output_type": "stream",
     "text": [
      "Name: Affan Hashmi\n",
      "Class: 8\n",
      "Age: 13\n",
      "Siblings: 2\n",
      "Fathername: Uzair\n"
     ]
    }
   ],
   "source": [
    "with open(\"Bio_Data.txt\", \"r\") as file:\n",
    "    print(file.read())"
   ]
  },
  {
   "cell_type": "code",
   "execution_count": 6,
   "metadata": {},
   "outputs": [],
   "source": [
    "with open(\"Bio_Data.txt\", \"a\") as file:\n",
    "    file.write(\"\\nBirthplace: Karachi, Pakistan\")"
   ]
  },
  {
   "cell_type": "markdown",
   "metadata": {},
   "source": [
    "Task 1:"
   ]
  },
  {
   "cell_type": "code",
   "execution_count": 7,
   "metadata": {},
   "outputs": [],
   "source": [
    "def student1():\n",
    "    st_input_name = input(\"Enter your name: \")\n",
    "    st_input_age = input(\"Enter your age: \")\n",
    "    st_input_class = input(\"Enter your class: \")\n",
    "    st_input_fees = input(\"Enter your fees amount: \")\n",
    "    with open(\"Student_Info.txt\", \"w\") as file:\n",
    "        file.write(\"Student Name: \")\n",
    "    with open(\"Student_Info.txt\", \"a\") as file:\n",
    "        file.write(st_input_name + \"\\n\")\n",
    "    with open(\"Student_Info.txt\", \"a\") as file:\n",
    "        file.write(\"Student Age: \")\n",
    "    with open(\"Student_Info.txt\", \"a\") as file:\n",
    "        file.write(st_input_age + \"\\n\")\n",
    "    with open(\"Student_Info.txt\", \"a\") as file:\n",
    "        file.write(\"Student Class: \")\n",
    "    with open(\"Student_Info.txt\", \"a\") as file:\n",
    "        file.write(st_input_class + \"\\n\")\n",
    "    with open(\"Student_Info.txt\", \"a\") as file:\n",
    "        file.write(\"Student Fees: \")\n",
    "    with open(\"Student_Info.txt\", \"a\") as file:\n",
    "        file.write(st_input_fees + \"\\n\")\n",
    "        \n",
    "def student2():\n",
    "    st_input_name = input(\"Enter your name: \")\n",
    "    st_input_age = input(\"Enter your age: \")\n",
    "    st_input_class = input(\"Enter your class: \")\n",
    "    st_input_fees = input(\"Enter your fees amount: \")\n",
    "    with open(\"Student_Info.txt\", \"a\") as file:\n",
    "        file.write(\"Student Name: \")\n",
    "    with open(\"Student_Info.txt\", \"a\") as file:\n",
    "        file.write(st_input_name + \"\\n\")\n",
    "    with open(\"Student_Info.txt\", \"a\") as file:\n",
    "        file.write(\"Student Age: \")\n",
    "    with open(\"Student_Info.txt\", \"a\") as file:\n",
    "        file.write(st_input_age + \"\\n\")\n",
    "    with open(\"Student_Info.txt\", \"a\") as file:\n",
    "        file.write(\"Student Class: \")\n",
    "    with open(\"Student_Info.txt\", \"a\") as file:\n",
    "        file.write(st_input_class + \"\\n\")\n",
    "    with open(\"Student_Info.txt\", \"a\") as file:\n",
    "        file.write(\"Student Fees: \")\n",
    "    with open(\"Student_Info.txt\", \"a\") as file:\n",
    "        file.write(st_input_fees + \"\\n\")"
   ]
  },
  {
   "cell_type": "code",
   "execution_count": 11,
   "metadata": {},
   "outputs": [
    {
     "name": "stdout",
     "output_type": "stream",
     "text": [
      "Press \"a\" to enter a new record OR press \"e\" to exit the program.a\n",
      "Press \"a\" to enter a new record OR press \"e\" to exit the program.a\n",
      "Enter your name: sam\n",
      "Enter your age: 54\n",
      "Enter your class: 45672572\n",
      "Enter your fees amount: 64276924\n",
      "Enter your name: david\n",
      "Enter your age: 518947\n",
      "Enter your class: 144713\n",
      "Enter your fees amount: 13571\n",
      "Press \"a\" to enter a new record OR press \"e\" to exit the program.e\n"
     ]
    }
   ],
   "source": [
    "user_input = input('Press \"a\" to enter a new record OR press \"e\" to exit the program.')\n",
    "\n",
    "while user_input != \"e\":\n",
    "    user_input = input('Press \"a\" to enter a new record OR press \"e\" to exit the program.')\n",
    "    if user_input == \"e\":\n",
    "        break\n",
    "        \n",
    "    student1()\n",
    "    student2()"
   ]
  },
  {
   "cell_type": "code",
   "execution_count": 12,
   "metadata": {},
   "outputs": [
    {
     "name": "stdout",
     "output_type": "stream",
     "text": [
      "Student Name: sam\n",
      "Student Age: 54\n",
      "Student Class: 45672572\n",
      "Student Fees: 64276924\n",
      "Student Name: david\n",
      "Student Age: 518947\n",
      "Student Class: 144713\n",
      "Student Fees: 13571\n",
      "\n"
     ]
    }
   ],
   "source": [
    "with open(\"Student_Info.txt\", \"r\") as file:\n",
    "    print(file.read())"
   ]
  },
  {
   "cell_type": "code",
   "execution_count": null,
   "metadata": {},
   "outputs": [],
   "source": []
  }
 ],
 "metadata": {
  "kernelspec": {
   "display_name": "Python 3",
   "language": "python",
   "name": "python3"
  },
  "language_info": {
   "codemirror_mode": {
    "name": "ipython",
    "version": 3
   },
   "file_extension": ".py",
   "mimetype": "text/x-python",
   "name": "python",
   "nbconvert_exporter": "python",
   "pygments_lexer": "ipython3",
   "version": "3.7.1"
  }
 },
 "nbformat": 4,
 "nbformat_minor": 2
}
