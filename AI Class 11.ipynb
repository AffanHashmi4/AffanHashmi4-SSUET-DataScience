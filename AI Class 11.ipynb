{
  "nbformat": 4,
  "nbformat_minor": 0,
  "metadata": {
    "colab": {
      "name": "AI Class 11.ipynb",
      "provenance": [],
      "authorship_tag": "ABX9TyPIbieeN7KJHYB5DHJ1CDF0",
      "include_colab_link": true
    },
    "kernelspec": {
      "name": "python3",
      "display_name": "Python 3"
    },
    "language_info": {
      "name": "python"
    }
  },
  "cells": [
    {
      "cell_type": "markdown",
      "metadata": {
        "id": "view-in-github",
        "colab_type": "text"
      },
      "source": [
        "<a href=\"https://colab.research.google.com/github/AffanHashmi4/AffanHashmi4-SSUET-DataScience/blob/main/AI%20Class%2011.ipynb\" target=\"_parent\"><img src=\"https://colab.research.google.com/assets/colab-badge.svg\" alt=\"Open In Colab\"/></a>"
      ]
    },
    {
      "cell_type": "code",
      "metadata": {
        "id": "UaE406-f-tGy"
      },
      "source": [
        "import csv"
      ],
      "execution_count": null,
      "outputs": []
    },
    {
      "cell_type": "code",
      "metadata": {
        "colab": {
          "base_uri": "https://localhost:8080/"
        },
        "id": "iJPhCss_9deP",
        "outputId": "042cc7d3-f8e3-4969-d482-493076139566"
      },
      "source": [
        "continued = \"\"\n",
        "with open(\"students.csv\",\"a\") as f:\n",
        "    data_writer = csv.writer(f,delimiter = \",\")\n",
        "    data_writer.writerow(['Name', 'Father Name', 'Age', 'Class'])\n",
        "while continued != 'q':\n",
        "  s_name = input(\"Enter Student Name : \")\n",
        "  s_f_name = input(\"Enter Student Father Name : \")\n",
        "  s_age = input(\"Enter Student Age : \")\n",
        "  s_class = input(\"Enter Student Class : \")\n",
        "  with open(\"students.csv\",\"a\") as f:\n",
        "    data_writer = csv.writer(f,delimiter = \",\")\n",
        "    data_writer.writerow([s_name, s_f_name, s_age, s_class])\n",
        "  continued = input(\"Press a to continue or q to exit\")"
      ],
      "execution_count": 5,
      "outputs": [
        {
          "output_type": "stream",
          "text": [
            "Enter Student Name : Affan\n",
            "Enter Student Father Name : Uzair\n",
            "Enter Student Age : 13\n",
            "Enter Student Class : 8\n",
            "Press a to continue or q to exita\n",
            "Enter Student Name : Umair\n",
            "Enter Student Father Name : Shehzad\n",
            "Enter Student Age : 24\n",
            "Enter Student Class : 17\n",
            "Press a to continue or q to exita\n",
            "Enter Student Name : Muhammad\n",
            "Enter Student Father Name : Hashmi\n",
            "Enter Student Age : 10\n",
            "Enter Student Class : 5\n",
            "Press a to continue or q to exitq\n"
          ],
          "name": "stdout"
        }
      ]
    },
    {
      "cell_type": "code",
      "metadata": {
        "id": "QgTjDzKo-5T7"
      },
      "source": [
        ""
      ],
      "execution_count": null,
      "outputs": []
    }
  ]
}