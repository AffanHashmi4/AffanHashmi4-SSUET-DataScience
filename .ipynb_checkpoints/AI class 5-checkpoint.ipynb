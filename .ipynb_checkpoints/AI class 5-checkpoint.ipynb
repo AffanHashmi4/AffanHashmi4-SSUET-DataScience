{
 "cells": [
  {
   "cell_type": "code",
   "execution_count": 3,
   "id": "fa7d2b1a",
   "metadata": {},
   "outputs": [],
   "source": [
    "contact_book = {\n",
    "    \"Affan\" : \"03048519436\",\n",
    "    \"Usman\" : \"03342225383\",\n",
    "    \"Mother\" : \"+923323098232\",\n",
    "    \"Father\" : \"+923333113597\"\n",
    "}"
   ]
  },
  {
   "cell_type": "code",
   "execution_count": 6,
   "id": "f64f6847",
   "metadata": {},
   "outputs": [
    {
     "name": "stdout",
     "output_type": "stream",
     "text": [
      "+923323098232\n"
     ]
    }
   ],
   "source": [
    "print(contact_book[\"Mother\"])"
   ]
  },
  {
   "cell_type": "code",
   "execution_count": 7,
   "id": "8d8cce5b",
   "metadata": {},
   "outputs": [],
   "source": [
    "contact_book[\"Friend\"] = \"01234567894\""
   ]
  },
  {
   "cell_type": "code",
   "execution_count": 8,
   "id": "cf34aa4d",
   "metadata": {},
   "outputs": [
    {
     "name": "stdout",
     "output_type": "stream",
     "text": [
      "{'Affan': '03048519436', 'Usman': '03342225383', 'Mother': '+923323098232', 'Father': '+923333113597', 'Friend': '01234567894'}\n"
     ]
    }
   ],
   "source": [
    "print(contact_book)"
   ]
  },
  {
   "cell_type": "code",
   "execution_count": 11,
   "id": "80433a83",
   "metadata": {},
   "outputs": [
    {
     "name": "stdout",
     "output_type": "stream",
     "text": [
      "01234567894\n"
     ]
    }
   ],
   "source": [
    "print(contact_book[\"friend\".title()])"
   ]
  },
  {
   "cell_type": "code",
   "execution_count": 12,
   "id": "a64261f8",
   "metadata": {},
   "outputs": [],
   "source": [
    "del contact_book[\"Usman\"]"
   ]
  },
  {
   "cell_type": "code",
   "execution_count": 13,
   "id": "4cab37bf",
   "metadata": {},
   "outputs": [
    {
     "name": "stdout",
     "output_type": "stream",
     "text": [
      "{'Affan': '03048519436', 'Mother': '+923323098232', 'Father': '+923333113597', 'Friend': '01234567894'}\n"
     ]
    }
   ],
   "source": [
    "print(contact_book)"
   ]
  },
  {
   "cell_type": "code",
   "execution_count": 14,
   "id": "2e284c9a",
   "metadata": {},
   "outputs": [],
   "source": [
    "friends_location = {\n",
    "    \"Ali\" : \"Karcahi\",\n",
    "    \"Hamza\" : \"Balochistan\",\n",
    "    \"Kamran\" : \"Quetta\",\n",
    "    \"Abdullah\" : \"Canada\"\n",
    "}"
   ]
  },
  {
   "cell_type": "code",
   "execution_count": 15,
   "id": "54e07692",
   "metadata": {},
   "outputs": [],
   "source": [
    "friends_location[\"Uzaif\"] = \"Australia\""
   ]
  },
  {
   "cell_type": "code",
   "execution_count": 16,
   "id": "849e7e7e",
   "metadata": {},
   "outputs": [
    {
     "name": "stdout",
     "output_type": "stream",
     "text": [
      "{'Ali': 'Karcahi', 'Hamza': 'Balochistan', 'Kamran': 'Quetta', 'Abdullah': 'Canada', 'Uzaif': 'Australia'}\n"
     ]
    }
   ],
   "source": [
    "print(friends_location)"
   ]
  },
  {
   "cell_type": "code",
   "execution_count": 18,
   "id": "ded4aa37",
   "metadata": {},
   "outputs": [],
   "source": [
    "del friends_location[\"Kamran\"]"
   ]
  },
  {
   "cell_type": "code",
   "execution_count": 19,
   "id": "3bcfa225",
   "metadata": {},
   "outputs": [
    {
     "name": "stdout",
     "output_type": "stream",
     "text": [
      "{'Ali': 'Karcahi', 'Hamza': 'Balochistan', 'Abdullah': 'Canada', 'Uzaif': 'Australia'}\n"
     ]
    }
   ],
   "source": [
    "print(friends_location)"
   ]
  },
  {
   "cell_type": "code",
   "execution_count": 20,
   "id": "ce838d36",
   "metadata": {},
   "outputs": [
    {
     "data": {
      "text/plain": [
       "dict_values(['03048519436', '+923323098232', '+923333113597', '01234567894'])"
      ]
     },
     "execution_count": 20,
     "metadata": {},
     "output_type": "execute_result"
    }
   ],
   "source": [
    "contact_book.values()"
   ]
  },
  {
   "cell_type": "code",
   "execution_count": 21,
   "id": "0804be9e",
   "metadata": {},
   "outputs": [
    {
     "data": {
      "text/plain": [
       "dict_keys(['Affan', 'Mother', 'Father', 'Friend'])"
      ]
     },
     "execution_count": 21,
     "metadata": {},
     "output_type": "execute_result"
    }
   ],
   "source": [
    "contact_book.keys()"
   ]
  },
  {
   "cell_type": "code",
   "execution_count": 22,
   "id": "e813bab7",
   "metadata": {},
   "outputs": [
    {
     "data": {
      "text/plain": [
       "dict_items([('Ali', 'Karcahi'), ('Hamza', 'Balochistan'), ('Abdullah', 'Canada'), ('Uzaif', 'Australia')])"
      ]
     },
     "execution_count": 22,
     "metadata": {},
     "output_type": "execute_result"
    }
   ],
   "source": [
    "friends_location.items()"
   ]
  },
  {
   "cell_type": "code",
   "execution_count": 23,
   "id": "21deea55",
   "metadata": {},
   "outputs": [
    {
     "name": "stdout",
     "output_type": "stream",
     "text": [
      "03048519436\n",
      "+923323098232\n",
      "+923333113597\n",
      "01234567894\n"
     ]
    }
   ],
   "source": [
    "for xyz in contact_book.values():\n",
    "    print(xyz)"
   ]
  },
  {
   "cell_type": "code",
   "execution_count": 24,
   "id": "4d085838",
   "metadata": {},
   "outputs": [
    {
     "name": "stdout",
     "output_type": "stream",
     "text": [
      "Ali\n",
      "Hamza\n",
      "Abdullah\n",
      "Uzaif\n"
     ]
    }
   ],
   "source": [
    "for abc in friends_location.keys():\n",
    "    print(abc)"
   ]
  },
  {
   "cell_type": "code",
   "execution_count": 29,
   "id": "e16070d8",
   "metadata": {
    "scrolled": true
   },
   "outputs": [
    {
     "name": "stdout",
     "output_type": "stream",
     "text": [
      "Affan: 03048519436\n",
      "Mother: +923323098232\n",
      "Father: +923333113597\n",
      "Friend: 01234567894\n"
     ]
    }
   ],
   "source": [
    "for mnop,qrst in contact_book.items():\n",
    "    print(mnop + \": \" + qrst)"
   ]
  },
  {
   "cell_type": "code",
   "execution_count": 42,
   "id": "9c54e09a",
   "metadata": {},
   "outputs": [],
   "source": [
    "customers = []"
   ]
  },
  {
   "cell_type": "code",
   "execution_count": 43,
   "id": "24d601b0",
   "metadata": {},
   "outputs": [
    {
     "name": "stdout",
     "output_type": "stream",
     "text": [
      "Enter your User Name: Affan Hashmi\n",
      "Enter your Number: +923048519436\n",
      "Enter your e-Mail: usmanaffanmannan@gmail.com\n"
     ]
    }
   ],
   "source": [
    "username = input(\"Enter your User Name: \")\n",
    "number = input(\"Enter your Number: \")\n",
    "email = input(\"Enter your e-Mail: \")\n",
    "customer_info = {}\n",
    "\n",
    "customer_info[\"User Name\"] = username\n",
    "customer_info[\"Number\"] = number\n",
    "customer_info[\"e-Mail\"] = email\n",
    "\n",
    "customers.append(customer_info)"
   ]
  },
  {
   "cell_type": "code",
   "execution_count": 44,
   "id": "ad0b4596",
   "metadata": {},
   "outputs": [
    {
     "name": "stdout",
     "output_type": "stream",
     "text": [
      "[{'User Name': 'Affan Hashmi', 'Number': '+923048519436', 'e-Mail': 'usmanaffanmannan@gmail.com'}]\n"
     ]
    }
   ],
   "source": [
    "print(customers)"
   ]
  },
  {
   "cell_type": "code",
   "execution_count": 58,
   "id": "f1b88243",
   "metadata": {},
   "outputs": [
    {
     "data": {
      "text/plain": [
       "1"
      ]
     },
     "execution_count": 58,
     "metadata": {},
     "output_type": "execute_result"
    }
   ],
   "source": [
    "len(customers)"
   ]
  },
  {
   "cell_type": "code",
   "execution_count": 63,
   "id": "647428a2",
   "metadata": {},
   "outputs": [],
   "source": [
    "dict_customers = {}"
   ]
  },
  {
   "cell_type": "code",
   "execution_count": 66,
   "id": "73120037",
   "metadata": {},
   "outputs": [
    {
     "name": "stdout",
     "output_type": "stream",
     "text": [
      "Enter your User Name: friend\n",
      "Enter your Number: 8u5439817698317569\n",
      "Enter your e-Mail: nibefihbdsif@gmai;l.com\n"
     ]
    }
   ],
   "source": [
    "username = input(\"Enter your User Name: \")\n",
    "number = input(\"Enter your Number: \")\n",
    "email = input(\"Enter your e-Mail: \")\n",
    "customer_info = {}\n",
    "\n",
    "customer_info[\"User Name\"] = username\n",
    "customer_info[\"Number\"] = number\n",
    "customer_info[\"e-Mail\"] = email\n",
    "\n",
    "dict_customers[email] = customer_info"
   ]
  },
  {
   "cell_type": "code",
   "execution_count": 67,
   "id": "8e495380",
   "metadata": {},
   "outputs": [
    {
     "data": {
      "text/plain": [
       "{'usmanaffanmannan@gmail.com': {'User Name': 'Affan\\\\',\n",
       "  'Number': '+923048519436',\n",
       "  'e-Mail': 'usmanaffanmannan@gmail.com'},\n",
       " 'nibefihbdsif@gmai;l.com': {'User Name': 'friend',\n",
       "  'Number': '8u5439817698317569',\n",
       "  'e-Mail': 'nibefihbdsif@gmai;l.com'}}"
      ]
     },
     "execution_count": 67,
     "metadata": {},
     "output_type": "execute_result"
    }
   ],
   "source": [
    "dict_customers"
   ]
  },
  {
   "cell_type": "code",
   "execution_count": 69,
   "id": "96fcec94",
   "metadata": {},
   "outputs": [
    {
     "data": {
      "text/plain": [
       "'8u5439817698317569'"
      ]
     },
     "execution_count": 69,
     "metadata": {},
     "output_type": "execute_result"
    }
   ],
   "source": [
    "dict_customers[\"nibefihbdsif@gmai;l.com\"][\"Number\"]"
   ]
  },
  {
   "cell_type": "code",
   "execution_count": null,
   "id": "84cd8c2e",
   "metadata": {},
   "outputs": [],
   "source": []
  }
 ],
 "metadata": {
  "kernelspec": {
   "display_name": "Python 3",
   "language": "python",
   "name": "python3"
  },
  "language_info": {
   "codemirror_mode": {
    "name": "ipython",
    "version": 3
   },
   "file_extension": ".py",
   "mimetype": "text/x-python",
   "name": "python",
   "nbconvert_exporter": "python",
   "pygments_lexer": "ipython3",
   "version": "3.8.8"
  }
 },
 "nbformat": 4,
 "nbformat_minor": 5
}
