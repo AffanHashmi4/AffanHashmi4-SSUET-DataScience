{
 "cells": [
  {
   "cell_type": "code",
   "execution_count": 100,
   "id": "59bea6cf",
   "metadata": {},
   "outputs": [
    {
     "name": "stdout",
     "output_type": "stream",
     "text": [
      "['Karachi', 'Lahore', 'Quetta', 'Peshawar', 'Multan']\n"
     ]
    }
   ],
   "source": [
    "cities = [\"Karachi\", \"Lahore\", \"Quetta\", \"Peshawar\", \"Multan\"]\n",
    "\n",
    "print(cities)"
   ]
  },
  {
   "cell_type": "code",
   "execution_count": 101,
   "id": "f420bcb7",
   "metadata": {},
   "outputs": [
    {
     "name": "stdout",
     "output_type": "stream",
     "text": [
      "Peshawar\n"
     ]
    }
   ],
   "source": [
    "print(cities[3])"
   ]
  },
  {
   "cell_type": "code",
   "execution_count": 102,
   "id": "93f14f07",
   "metadata": {},
   "outputs": [
    {
     "name": "stdout",
     "output_type": "stream",
     "text": [
      "Because of Quetta, Lahore is also out from PSL\n"
     ]
    }
   ],
   "source": [
    "print(\"Because of \" + cities[2] + \", \" + cities[1] + \" is also out from PSL\")"
   ]
  },
  {
   "cell_type": "code",
   "execution_count": 103,
   "id": "85807bf7",
   "metadata": {},
   "outputs": [],
   "source": [
    "cities.append(\"Islamabad\")"
   ]
  },
  {
   "cell_type": "code",
   "execution_count": 104,
   "id": "ae756ad2",
   "metadata": {},
   "outputs": [
    {
     "name": "stdout",
     "output_type": "stream",
     "text": [
      "['Karachi', 'Lahore', 'Quetta', 'Peshawar', 'Multan', 'Islamabad']\n"
     ]
    }
   ],
   "source": [
    "print(cities)"
   ]
  },
  {
   "cell_type": "code",
   "execution_count": 105,
   "id": "d7709905",
   "metadata": {},
   "outputs": [],
   "source": [
    "cities = cities + [\"Larkana\", \"Kashmir\"]"
   ]
  },
  {
   "cell_type": "code",
   "execution_count": 106,
   "id": "0635cf36",
   "metadata": {},
   "outputs": [
    {
     "name": "stdout",
     "output_type": "stream",
     "text": [
      "['Karachi', 'Lahore', 'Quetta', 'Peshawar', 'Multan', 'Islamabad', 'Larkana', 'Kashmir']\n"
     ]
    }
   ],
   "source": [
    "print(cities)"
   ]
  },
  {
   "cell_type": "code",
   "execution_count": 107,
   "id": "56c9e797",
   "metadata": {},
   "outputs": [],
   "source": [
    "cities.remove(cities[1])"
   ]
  },
  {
   "cell_type": "code",
   "execution_count": 108,
   "id": "ee1c5518",
   "metadata": {},
   "outputs": [
    {
     "name": "stdout",
     "output_type": "stream",
     "text": [
      "['Karachi', 'Quetta', 'Peshawar', 'Multan', 'Islamabad', 'Larkana', 'Kashmir']\n"
     ]
    }
   ],
   "source": [
    "print(cities)"
   ]
  },
  {
   "cell_type": "code",
   "execution_count": 109,
   "id": "8cb36f55",
   "metadata": {},
   "outputs": [],
   "source": [
    "cities_of_pakistan = cities + [\"Hyderabad\", \"Sakkur\", \"Gujrat\", \"Nawabshah\"]"
   ]
  },
  {
   "cell_type": "code",
   "execution_count": 110,
   "id": "980daa16",
   "metadata": {},
   "outputs": [
    {
     "name": "stdout",
     "output_type": "stream",
     "text": [
      "['Karachi', 'Quetta', 'Peshawar', 'Multan', 'Islamabad', 'Larkana', 'Kashmir']\n"
     ]
    }
   ],
   "source": [
    "print(cities)"
   ]
  },
  {
   "cell_type": "code",
   "execution_count": 111,
   "id": "3c47c4aa",
   "metadata": {},
   "outputs": [
    {
     "name": "stdout",
     "output_type": "stream",
     "text": [
      "['Karachi', 'Quetta', 'Peshawar', 'Multan', 'Islamabad', 'Larkana', 'Kashmir', 'Hyderabad', 'Sakkur', 'Gujrat', 'Nawabshah']\n"
     ]
    }
   ],
   "source": [
    "print(cities_of_pakistan)"
   ]
  },
  {
   "cell_type": "code",
   "execution_count": 112,
   "id": "d88eae49",
   "metadata": {},
   "outputs": [],
   "source": [
    "cities_of_pakistan.insert(1, \"Rawalpindi\")"
   ]
  },
  {
   "cell_type": "code",
   "execution_count": 113,
   "id": "0847ea19",
   "metadata": {},
   "outputs": [
    {
     "name": "stdout",
     "output_type": "stream",
     "text": [
      "['Karachi', 'Rawalpindi', 'Quetta', 'Peshawar', 'Multan', 'Islamabad', 'Larkana', 'Kashmir', 'Hyderabad', 'Sakkur', 'Gujrat', 'Nawabshah']\n"
     ]
    }
   ],
   "source": [
    "print(cities_of_pakistan)"
   ]
  },
  {
   "cell_type": "code",
   "execution_count": 114,
   "id": "2cbad5b2",
   "metadata": {},
   "outputs": [
    {
     "name": "stdout",
     "output_type": "stream",
     "text": [
      "['Karachi', 'Quetta', 'Peshawar', 'Multan', 'Islamabad', 'Larkana', 'Kashmir']\n"
     ]
    }
   ],
   "source": [
    "print(cities)"
   ]
  },
  {
   "cell_type": "code",
   "execution_count": 115,
   "id": "b604354d",
   "metadata": {},
   "outputs": [],
   "source": [
    "cities_of_pakistan.insert(6, \"Khairpur\")"
   ]
  },
  {
   "cell_type": "code",
   "execution_count": 116,
   "id": "1f9d7f81",
   "metadata": {},
   "outputs": [],
   "source": [
    "cities.insert(3, \"Sahiwal\")"
   ]
  },
  {
   "cell_type": "code",
   "execution_count": 117,
   "id": "a737c683",
   "metadata": {},
   "outputs": [
    {
     "name": "stdout",
     "output_type": "stream",
     "text": [
      "['Karachi', 'Quetta', 'Peshawar', 'Sahiwal', 'Multan', 'Islamabad', 'Larkana', 'Kashmir']\n"
     ]
    }
   ],
   "source": [
    "print(cities)"
   ]
  },
  {
   "cell_type": "code",
   "execution_count": 118,
   "id": "4b743974",
   "metadata": {},
   "outputs": [
    {
     "name": "stdout",
     "output_type": "stream",
     "text": [
      "['Karachi', 'Rawalpindi', 'Quetta', 'Peshawar', 'Multan', 'Islamabad', 'Khairpur', 'Larkana', 'Kashmir', 'Hyderabad', 'Sakkur', 'Gujrat', 'Nawabshah']\n"
     ]
    }
   ],
   "source": [
    "print(cities_of_pakistan)"
   ]
  },
  {
   "cell_type": "code",
   "execution_count": 119,
   "id": "bf90d6d1",
   "metadata": {},
   "outputs": [],
   "source": [
    "cities_of_pakistan[0] = cities_of_pakistan[2] "
   ]
  },
  {
   "cell_type": "code",
   "execution_count": 120,
   "id": "7aee06f9",
   "metadata": {},
   "outputs": [
    {
     "name": "stdout",
     "output_type": "stream",
     "text": [
      "['Quetta', 'Rawalpindi', 'Quetta', 'Peshawar', 'Multan', 'Islamabad', 'Khairpur', 'Larkana', 'Kashmir', 'Hyderabad', 'Sakkur', 'Gujrat', 'Nawabshah']\n"
     ]
    }
   ],
   "source": [
    "print(cities_of_pakistan)"
   ]
  },
  {
   "cell_type": "code",
   "execution_count": 121,
   "id": "8c4c89a2",
   "metadata": {},
   "outputs": [],
   "source": [
    "cities_of_pakistan[2] = \"Karachi\""
   ]
  },
  {
   "cell_type": "code",
   "execution_count": 122,
   "id": "4d150683",
   "metadata": {},
   "outputs": [
    {
     "name": "stdout",
     "output_type": "stream",
     "text": [
      "['Quetta', 'Rawalpindi', 'Karachi', 'Peshawar', 'Multan', 'Islamabad', 'Khairpur', 'Larkana', 'Kashmir', 'Hyderabad', 'Sakkur', 'Gujrat', 'Nawabshah']\n"
     ]
    }
   ],
   "source": [
    "print(cities_of_pakistan)"
   ]
  },
  {
   "cell_type": "code",
   "execution_count": 123,
   "id": "6ce2d523",
   "metadata": {},
   "outputs": [],
   "source": [
    "temp_city = cities_of_pakistan[8]\n",
    "\n",
    "cities_of_pakistan[8] = cities_of_pakistan[9]\n",
    "cities_of_pakistan[9] = temp_city"
   ]
  },
  {
   "cell_type": "code",
   "execution_count": 124,
   "id": "fef3fcd3",
   "metadata": {},
   "outputs": [
    {
     "name": "stdout",
     "output_type": "stream",
     "text": [
      "['Quetta', 'Rawalpindi', 'Karachi', 'Peshawar', 'Multan', 'Islamabad', 'Khairpur', 'Larkana', 'Hyderabad', 'Kashmir', 'Sakkur', 'Gujrat', 'Nawabshah']\n"
     ]
    }
   ],
   "source": [
    "print(cities_of_pakistan)"
   ]
  },
  {
   "cell_type": "code",
   "execution_count": 130,
   "id": "1eb94e60",
   "metadata": {},
   "outputs": [],
   "source": [
    "days = [\"Monday\", \"Tuesday\", \"Wednesday\", \"Thursday\", \"Friday\", \"Saturday\", \"Sunday\"]"
   ]
  },
  {
   "cell_type": "code",
   "execution_count": 140,
   "id": "4f16a980",
   "metadata": {},
   "outputs": [
    {
     "name": "stdout",
     "output_type": "stream",
     "text": [
      "['Wednesday', 'Thursday', 'Friday']\n"
     ]
    }
   ],
   "source": [
    "print(days[2:5])"
   ]
  },
  {
   "cell_type": "code",
   "execution_count": 141,
   "id": "70edcd30",
   "metadata": {},
   "outputs": [
    {
     "name": "stdout",
     "output_type": "stream",
     "text": [
      "['Monday', 'Wednesday', 'Friday', 'Sunday']\n"
     ]
    }
   ],
   "source": [
    "print(days[0:7:2])"
   ]
  },
  {
   "cell_type": "code",
   "execution_count": 142,
   "id": "fc0234d2",
   "metadata": {},
   "outputs": [
    {
     "name": "stdout",
     "output_type": "stream",
     "text": [
      "['Monday', 'Wednesday', 'Friday', 'Sunday']\n"
     ]
    }
   ],
   "source": [
    "print(days[0::2])"
   ]
  },
  {
   "cell_type": "code",
   "execution_count": 143,
   "id": "17ce2b71",
   "metadata": {},
   "outputs": [
    {
     "name": "stdout",
     "output_type": "stream",
     "text": [
      "['Monday', 'Wednesday', 'Friday', 'Sunday']\n"
     ]
    }
   ],
   "source": [
    "print(days[::2])"
   ]
  },
  {
   "cell_type": "code",
   "execution_count": 151,
   "id": "27566cac",
   "metadata": {},
   "outputs": [
    {
     "name": "stdout",
     "output_type": "stream",
     "text": [
      "['Sunday', 'Friday', 'Wednesday', 'Monday']\n"
     ]
    }
   ],
   "source": [
    "print(days[-1::-2])"
   ]
  },
  {
   "cell_type": "code",
   "execution_count": 152,
   "id": "4e7f96cb",
   "metadata": {},
   "outputs": [
    {
     "name": "stdout",
     "output_type": "stream",
     "text": [
      "['Sunday', 'Friday', 'Wednesday', 'Monday']\n"
     ]
    }
   ],
   "source": [
    "print(days[::-2])"
   ]
  },
  {
   "cell_type": "code",
   "execution_count": 153,
   "id": "d711d5a8",
   "metadata": {},
   "outputs": [],
   "source": [
    "del cities_of_pakistan[2]"
   ]
  },
  {
   "cell_type": "code",
   "execution_count": 154,
   "id": "2376bd4a",
   "metadata": {},
   "outputs": [
    {
     "name": "stdout",
     "output_type": "stream",
     "text": [
      "['Quetta', 'Rawalpindi', 'Peshawar', 'Multan', 'Islamabad', 'Khairpur', 'Larkana', 'Hyderabad', 'Kashmir', 'Sakkur', 'Gujrat', 'Nawabshah']\n"
     ]
    }
   ],
   "source": [
    "print(cities_of_pakistan)"
   ]
  },
  {
   "cell_type": "code",
   "execution_count": 156,
   "id": "3ac139be",
   "metadata": {},
   "outputs": [],
   "source": [
    "punjab_cities = []"
   ]
  },
  {
   "cell_type": "code",
   "execution_count": 157,
   "id": "c2274b22",
   "metadata": {},
   "outputs": [],
   "source": [
    "punjab_cities.append(cities_of_pakistan.pop(4))"
   ]
  },
  {
   "cell_type": "code",
   "execution_count": 158,
   "id": "48d61104",
   "metadata": {},
   "outputs": [
    {
     "name": "stdout",
     "output_type": "stream",
     "text": [
      "['Islamabad']\n"
     ]
    }
   ],
   "source": [
    "print(punjab_cities)"
   ]
  },
  {
   "cell_type": "code",
   "execution_count": 159,
   "id": "6fdda27e",
   "metadata": {},
   "outputs": [
    {
     "name": "stdout",
     "output_type": "stream",
     "text": [
      "['Quetta', 'Rawalpindi', 'Peshawar', 'Multan', 'Khairpur', 'Larkana', 'Hyderabad', 'Kashmir', 'Sakkur', 'Gujrat', 'Nawabshah']\n"
     ]
    }
   ],
   "source": [
    "print(cities_of_pakistan)"
   ]
  },
  {
   "cell_type": "code",
   "execution_count": 160,
   "id": "5ea46184",
   "metadata": {},
   "outputs": [],
   "source": [
    "punjab_cities.append(cities_of_pakistan.pop(9))"
   ]
  },
  {
   "cell_type": "code",
   "execution_count": 161,
   "id": "de10196e",
   "metadata": {},
   "outputs": [
    {
     "name": "stdout",
     "output_type": "stream",
     "text": [
      "['Islamabad', 'Gujrat']\n"
     ]
    }
   ],
   "source": [
    "print(punjab_cities)"
   ]
  },
  {
   "cell_type": "code",
   "execution_count": 163,
   "id": "5072598d",
   "metadata": {
    "scrolled": true
   },
   "outputs": [
    {
     "name": "stdout",
     "output_type": "stream",
     "text": [
      "['Quetta', 'Rawalpindi', 'Peshawar', 'Multan', 'Khairpur', 'Larkana', 'Hyderabad', 'Kashmir', 'Sakkur', 'Nawabshah']\n"
     ]
    }
   ],
   "source": [
    "print(cities_of_pakistan)"
   ]
  },
  {
   "cell_type": "code",
   "execution_count": 166,
   "id": "53be3b8d",
   "metadata": {},
   "outputs": [
    {
     "name": "stdout",
     "output_type": "stream",
     "text": [
      "('Monday', 'Tuesday', 'Wednesday', 'Thursday', 'Friday', 'Saturday', 'Sunday')\n"
     ]
    }
   ],
   "source": [
    "#Introduction to Tuples.\n",
    "#Lists start with square brackets while tuples staert with round brackets and everything else is same in tuples and lists.\n",
    "\n",
    "days_tuple=(\"Monday\", \"Tuesday\", \"Wednesday\", \"Thursday\", \"Friday\", \"Saturday\", \"Sunday\")\n",
    "print(days_tuple)"
   ]
  },
  {
   "cell_type": "code",
   "execution_count": null,
   "id": "a3c2290f",
   "metadata": {},
   "outputs": [],
   "source": []
  }
 ],
 "metadata": {
  "kernelspec": {
   "display_name": "Python 3",
   "language": "python",
   "name": "python3"
  },
  "language_info": {
   "codemirror_mode": {
    "name": "ipython",
    "version": 3
   },
   "file_extension": ".py",
   "mimetype": "text/x-python",
   "name": "python",
   "nbconvert_exporter": "python",
   "pygments_lexer": "ipython3",
   "version": "3.8.8"
  }
 },
 "nbformat": 4,
 "nbformat_minor": 5
}
