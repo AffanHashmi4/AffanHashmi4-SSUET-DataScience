{
 "cells": [
  {
   "cell_type": "code",
   "execution_count": 1,
   "id": "949b7537",
   "metadata": {},
   "outputs": [],
   "source": [
    "cats = []"
   ]
  },
  {
   "cell_type": "code",
   "execution_count": 4,
   "id": "5a365a48",
   "metadata": {},
   "outputs": [
    {
     "name": "stdout",
     "output_type": "stream",
     "text": [
      "enter cat age: 7\n",
      "enter cat specie: russian\n",
      "enter cat colour: brown\n",
      "enter cat weight: 1\n"
     ]
    }
   ],
   "source": [
    "age = input(\"enter cat age: \")\n",
    "specie = input(\"enter cat specie: \")\n",
    "colour = input(\"enter cat colour: \")\n",
    "weight = input(\"enter cat weight: \")\n",
    "cats_info = {}\n",
    "\n",
    "cats_info[\"Age\"] = age\n",
    "cats_info[\"Specie\"] = specie\n",
    "cats_info[\"Colour\"] = colour\n",
    "cats_info[\"Weight\"] = weight\n",
    "\n",
    "cats.append(cats_info)"
   ]
  },
  {
   "cell_type": "code",
   "execution_count": 14,
   "id": "3307a43b",
   "metadata": {
    "scrolled": true
   },
   "outputs": [
    {
     "data": {
      "text/plain": [
       "[{'Age': '4', 'Specie': 'persian', 'Colour': 'white', 'Weight': '2'},\n",
       " {'Age': '9', 'Specie': 'street', 'Colour': 'black', 'Weight': '6'},\n",
       " {'Age': '7', 'Specie': 'russian', 'Colour': 'brown', 'Weight': '1'}]"
      ]
     },
     "execution_count": 14,
     "metadata": {},
     "output_type": "execute_result"
    }
   ],
   "source": [
    "cats"
   ]
  },
  {
   "cell_type": "code",
   "execution_count": 15,
   "id": "33830d0d",
   "metadata": {},
   "outputs": [
    {
     "name": "stdout",
     "output_type": "stream",
     "text": [
      "enter cat 1 speciepersian\n",
      "enter cat 2 specierussian\n",
      "4\n"
     ]
    }
   ],
   "source": [
    "cat1 = input(\"enter cat 1 specie: \")\n",
    "cat2 = input(\"enter cat 2 specie: \")"
   ]
  },
  {
   "cell_type": "code",
   "execution_count": 18,
   "id": "5c7b4bd7",
   "metadata": {},
   "outputs": [
    {
     "name": "stdout",
     "output_type": "stream",
     "text": [
      "Age Is  4\n"
     ]
    }
   ],
   "source": [
    "for i in cats:\n",
    "    if(i['Specie'] == 'persian'):\n",
    "        print('Age Is ', i['Age'])"
   ]
  },
  {
   "cell_type": "code",
   "execution_count": null,
   "id": "d343f0d8",
   "metadata": {},
   "outputs": [],
   "source": []
  }
 ],
 "metadata": {
  "kernelspec": {
   "display_name": "Python 3",
   "language": "python",
   "name": "python3"
  },
  "language_info": {
   "codemirror_mode": {
    "name": "ipython",
    "version": 3
   },
   "file_extension": ".py",
   "mimetype": "text/x-python",
   "name": "python",
   "nbconvert_exporter": "python",
   "pygments_lexer": "ipython3",
   "version": "3.8.8"
  }
 },
 "nbformat": 4,
 "nbformat_minor": 5
}
