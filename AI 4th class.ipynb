{
 "cells": [
  {
   "cell_type": "code",
   "execution_count": 2,
   "id": "05497d65",
   "metadata": {},
   "outputs": [],
   "source": [
    "cities = [\"Karachi\", \"Lahore\", \"Islamabad\", \"Quetta\", \"Peshawar\", \"Multan\"]"
   ]
  },
  {
   "cell_type": "code",
   "execution_count": 3,
   "id": "b02a9096",
   "metadata": {
    "scrolled": true
   },
   "outputs": [
    {
     "name": "stdout",
     "output_type": "stream",
     "text": [
      "Karachi\n",
      "Lahore\n",
      "Islamabad\n",
      "Quetta\n",
      "Peshawar\n",
      "Multan\n"
     ]
    }
   ],
   "source": [
    "for temp_city in cities:\n",
    "    print(temp_city)"
   ]
  },
  {
   "cell_type": "code",
   "execution_count": 17,
   "id": "b7221864",
   "metadata": {},
   "outputs": [],
   "source": [
    "city = \"Islamabad\""
   ]
  },
  {
   "cell_type": "code",
   "execution_count": 22,
   "id": "023e4667",
   "metadata": {},
   "outputs": [
    {
     "name": "stdout",
     "output_type": "stream",
     "text": [
      "Denied!\n",
      "Denied!\n",
      "Accepted!\n",
      "Denied!\n",
      "Denied!\n",
      "Denied!\n"
     ]
    }
   ],
   "source": [
    "for temp_city in cities:\n",
    "    if (temp_city == city):\n",
    "        print(\"Accepted!\")\n",
    "    else:\n",
    "        print(\"Denied!\")"
   ]
  },
  {
   "cell_type": "code",
   "execution_count": 26,
   "id": "4da71c87",
   "metadata": {},
   "outputs": [
    {
     "data": {
      "text/plain": [
       "range(0, 100)"
      ]
     },
     "execution_count": 26,
     "metadata": {},
     "output_type": "execute_result"
    }
   ],
   "source": [
    "a = range(100)\n",
    "\n",
    "a"
   ]
  },
  {
   "cell_type": "code",
   "execution_count": 44,
   "id": "a48db57f",
   "metadata": {},
   "outputs": [
    {
     "name": "stdout",
     "output_type": "stream",
     "text": [
      "0\n",
      "1\n",
      "2\n",
      "3\n",
      "4\n",
      "5\n",
      "6\n",
      "7\n",
      "8\n",
      "9\n",
      "10\n",
      "11\n",
      "12\n",
      "13\n",
      "14\n",
      "15\n",
      "16\n",
      "17\n",
      "18\n",
      "19\n",
      "20\n",
      "21\n",
      "22\n",
      "23\n",
      "24\n",
      "25\n",
      "26\n",
      "27\n",
      "28\n",
      "29\n",
      "30\n",
      "31\n",
      "32\n",
      "33\n",
      "34\n",
      "35\n",
      "36\n",
      "37\n",
      "38\n",
      "39\n",
      "40\n",
      "41\n",
      "42\n",
      "43\n",
      "44\n",
      "45\n",
      "46\n",
      "47\n",
      "48\n",
      "49\n",
      "50\n",
      "51\n",
      "52\n",
      "53\n",
      "54\n",
      "55\n",
      "56\n",
      "57\n",
      "58\n",
      "59\n",
      "60\n",
      "61\n",
      "62\n",
      "63\n",
      "64\n",
      "65\n",
      "66\n",
      "67\n",
      "68\n",
      "69\n",
      "70\n",
      "71\n",
      "72\n",
      "73\n",
      "74\n",
      "75\n",
      "76\n",
      "77\n",
      "78\n",
      "79\n",
      "80\n",
      "81\n",
      "82\n",
      "83\n",
      "84\n",
      "85\n",
      "86\n",
      "87\n",
      "88\n",
      "89\n",
      "90\n",
      "91\n",
      "92\n",
      "93\n",
      "94\n",
      "95\n",
      "96\n",
      "97\n",
      "98\n",
      "99\n"
     ]
    }
   ],
   "source": [
    "for x in range(100):\n",
    "    print(x)"
   ]
  },
  {
   "cell_type": "code",
   "execution_count": 43,
   "id": "3bcd5d9e",
   "metadata": {},
   "outputs": [
    {
     "name": "stdout",
     "output_type": "stream",
     "text": [
      "Sir Umair is the best!\n",
      "Sir Umair is the best!\n",
      "Sir Umair is the best!\n",
      "Sir Umair is the best!\n",
      "Sir Umair is the best!\n",
      "Sir Umair is the best!\n",
      "Sir Umair is the best!\n",
      "Sir Umair is the best!\n",
      "Sir Umair is the best!\n",
      "Sir Umair is the best!\n",
      "Sir Umair is the best!\n",
      "Sir Umair is the best!\n",
      "Sir Umair is the best!\n",
      "Sir Umair is the best!\n",
      "Sir Umair is the best!\n",
      "Sir Umair is the best!\n",
      "Sir Umair is the best!\n",
      "Sir Umair is the best!\n",
      "Sir Umair is the best!\n",
      "Sir Umair is the best!\n",
      "Sir Umair is the best!\n",
      "Sir Umair is the best!\n",
      "Sir Umair is the best!\n",
      "Sir Umair is the best!\n",
      "Sir Umair is the best!\n",
      "Sir Umair is the best!\n",
      "Sir Umair is the best!\n",
      "Sir Umair is the best!\n",
      "Sir Umair is the best!\n",
      "Sir Umair is the best!\n",
      "Sir Umair is the best!\n",
      "Sir Umair is the best!\n",
      "Sir Umair is the best!\n",
      "Sir Umair is the best!\n",
      "Sir Umair is the best!\n",
      "Sir Umair is the best!\n",
      "Sir Umair is the best!\n",
      "Sir Umair is the best!\n",
      "Sir Umair is the best!\n",
      "Sir Umair is the best!\n",
      "Sir Umair is the best!\n",
      "Sir Umair is the best!\n",
      "Sir Umair is the best!\n",
      "Sir Umair is the best!\n",
      "Sir Umair is the best!\n",
      "Sir Umair is the best!\n",
      "Sir Umair is the best!\n",
      "Sir Umair is the best!\n",
      "Sir Umair is the best!\n",
      "Sir Umair is the best!\n",
      "Sir Umair is the best!\n",
      "Sir Umair is the best!\n",
      "Sir Umair is the best!\n",
      "Sir Umair is the best!\n",
      "Sir Umair is the best!\n",
      "Sir Umair is the best!\n",
      "Sir Umair is the best!\n",
      "Sir Umair is the best!\n",
      "Sir Umair is the best!\n",
      "Sir Umair is the best!\n",
      "Sir Umair is the best!\n",
      "Sir Umair is the best!\n",
      "Sir Umair is the best!\n",
      "Sir Umair is the best!\n",
      "Sir Umair is the best!\n",
      "Sir Umair is the best!\n",
      "Sir Umair is the best!\n",
      "Sir Umair is the best!\n",
      "Sir Umair is the best!\n",
      "Sir Umair is the best!\n",
      "Sir Umair is the best!\n",
      "Sir Umair is the best!\n",
      "Sir Umair is the best!\n",
      "Sir Umair is the best!\n",
      "Sir Umair is the best!\n",
      "Sir Umair is the best!\n",
      "Sir Umair is the best!\n",
      "Sir Umair is the best!\n",
      "Sir Umair is the best!\n",
      "Sir Umair is the best!\n",
      "Sir Umair is the best!\n",
      "Sir Umair is the best!\n",
      "Sir Umair is the best!\n",
      "Sir Umair is the best!\n",
      "Sir Umair is the best!\n",
      "Sir Umair is the best!\n",
      "Sir Umair is the best!\n",
      "Sir Umair is the best!\n",
      "Sir Umair is the best!\n",
      "Sir Umair is the best!\n",
      "Sir Umair is the best!\n",
      "Sir Umair is the best!\n",
      "Sir Umair is the best!\n",
      "Sir Umair is the best!\n",
      "Sir Umair is the best!\n",
      "Sir Umair is the best!\n",
      "Sir Umair is the best!\n",
      "Sir Umair is the best!\n",
      "Sir Umair is the best!\n",
      "Sir Umair is the best!\n"
     ]
    }
   ],
   "source": [
    "for a in range(100):\n",
    "    print(\"Sir Umair is the best!\")"
   ]
  },
  {
   "cell_type": "code",
   "execution_count": 64,
   "id": "8fb9a3a9",
   "metadata": {},
   "outputs": [],
   "source": [
    "first_names = [\"BlueRay\", \"Upchuck\", \"Lojack\", \"Gizmo\", \"Do-Rag\"]\n",
    "last_names = [\"Zzz\", \"Burp\", \"Dogbone\", \"Droop\"]"
   ]
  },
  {
   "cell_type": "code",
   "execution_count": 65,
   "id": "809eb156",
   "metadata": {},
   "outputs": [],
   "source": [
    "full_names = []"
   ]
  },
  {
   "cell_type": "code",
   "execution_count": 66,
   "id": "8a290042",
   "metadata": {},
   "outputs": [
    {
     "name": "stdout",
     "output_type": "stream",
     "text": [
      "BlueRay Zzz\n",
      "BlueRay Burp\n",
      "BlueRay Dogbone\n",
      "BlueRay Droop\n",
      "Upchuck Zzz\n",
      "Upchuck Burp\n",
      "Upchuck Dogbone\n",
      "Upchuck Droop\n",
      "Lojack Zzz\n",
      "Lojack Burp\n",
      "Lojack Dogbone\n",
      "Lojack Droop\n",
      "Gizmo Zzz\n",
      "Gizmo Burp\n",
      "Gizmo Dogbone\n",
      "Gizmo Droop\n",
      "Do-Rag Zzz\n",
      "Do-Rag Burp\n",
      "Do-Rag Dogbone\n",
      "Do-Rag Droop\n"
     ]
    }
   ],
   "source": [
    "for y in first_names:\n",
    "    for z in last_names:\n",
    "        print(y + \" \" + z)"
   ]
  },
  {
   "cell_type": "code",
   "execution_count": 67,
   "id": "e86922b0",
   "metadata": {},
   "outputs": [],
   "source": [
    "for y in first_names:\n",
    "    for z in last_names:\n",
    "        full_names.append(y + \" \" + z)"
   ]
  },
  {
   "cell_type": "code",
   "execution_count": 68,
   "id": "847ceed0",
   "metadata": {
    "scrolled": true
   },
   "outputs": [
    {
     "data": {
      "text/plain": [
       "['BlueRay Zzz',\n",
       " 'BlueRay Burp',\n",
       " 'BlueRay Dogbone',\n",
       " 'BlueRay Droop',\n",
       " 'Upchuck Zzz',\n",
       " 'Upchuck Burp',\n",
       " 'Upchuck Dogbone',\n",
       " 'Upchuck Droop',\n",
       " 'Lojack Zzz',\n",
       " 'Lojack Burp',\n",
       " 'Lojack Dogbone',\n",
       " 'Lojack Droop',\n",
       " 'Gizmo Zzz',\n",
       " 'Gizmo Burp',\n",
       " 'Gizmo Dogbone',\n",
       " 'Gizmo Droop',\n",
       " 'Do-Rag Zzz',\n",
       " 'Do-Rag Burp',\n",
       " 'Do-Rag Dogbone',\n",
       " 'Do-Rag Droop']"
      ]
     },
     "execution_count": 68,
     "metadata": {},
     "output_type": "execute_result"
    }
   ],
   "source": [
    "full_names"
   ]
  },
  {
   "cell_type": "code",
   "execution_count": 72,
   "id": "dfa646a7",
   "metadata": {},
   "outputs": [
    {
     "name": "stdout",
     "output_type": "stream",
     "text": [
      "Please enter your name: Affan\n"
     ]
    }
   ],
   "source": [
    "user_name = input(\"Please enter your name: \")"
   ]
  },
  {
   "cell_type": "code",
   "execution_count": 73,
   "id": "d5af7cc4",
   "metadata": {},
   "outputs": [
    {
     "name": "stdout",
     "output_type": "stream",
     "text": [
      "Affan\n"
     ]
    }
   ],
   "source": [
    "print(user_name)"
   ]
  },
  {
   "cell_type": "code",
   "execution_count": 95,
   "id": "491cadbf",
   "metadata": {},
   "outputs": [
    {
     "data": {
      "text/plain": [
       "str"
      ]
     },
     "execution_count": 95,
     "metadata": {},
     "output_type": "execute_result"
    }
   ],
   "source": [
    "type(user_name)"
   ]
  },
  {
   "cell_type": "code",
   "execution_count": 104,
   "id": "5b355703",
   "metadata": {},
   "outputs": [
    {
     "name": "stdout",
     "output_type": "stream",
     "text": [
      "Please enter first name: Affan\n",
      "Please enter second name: Hashmi\n",
      "Hello, Affan Hashmi!\n"
     ]
    }
   ],
   "source": [
    "first_name = (input(\"Please enter first name: \"))\n",
    "last_name = (input(\"Please enter second name: \"))\n",
    "\n",
    "print(\"Hello, \" + first_name + \" \" +last_name + \"!\")"
   ]
  },
  {
   "cell_type": "code",
   "execution_count": 86,
   "id": "fdfd13fb",
   "metadata": {},
   "outputs": [
    {
     "name": "stdout",
     "output_type": "stream",
     "text": [
      "Please enter first number: 5\n",
      "Please enter second number: 4\n"
     ]
    }
   ],
   "source": [
    "num1 = (input(\"Please enter first number: \"))\n",
    "num2 = (input(\"Please enter second number: \"))"
   ]
  },
  {
   "cell_type": "code",
   "execution_count": 87,
   "id": "ca22d672",
   "metadata": {},
   "outputs": [
    {
     "name": "stdout",
     "output_type": "stream",
     "text": [
      "54\n"
     ]
    }
   ],
   "source": [
    "print(num1 + num2)"
   ]
  },
  {
   "cell_type": "code",
   "execution_count": 116,
   "id": "41a4f536",
   "metadata": {},
   "outputs": [
    {
     "name": "stdout",
     "output_type": "stream",
     "text": [
      "Please enter first number: 5\n",
      "Please enter second number: 4\n"
     ]
    }
   ],
   "source": [
    "#Parsing\n",
    "\n",
    "num1 = int(input(\"Please enter first number: \"))\n",
    "num2 = int(input(\"Please enter second number: \"))"
   ]
  },
  {
   "cell_type": "code",
   "execution_count": 117,
   "id": "f8b423bc",
   "metadata": {},
   "outputs": [
    {
     "name": "stdout",
     "output_type": "stream",
     "text": [
      "9\n"
     ]
    }
   ],
   "source": [
    "print(num1 + num2)"
   ]
  },
  {
   "cell_type": "code",
   "execution_count": 133,
   "id": "23db7bf9",
   "metadata": {},
   "outputs": [],
   "source": [
    "psl_cities = [\"Peshawar\", \"Islamabad\", \"Lahore\", \"Multan\", \"Quetta\", \"Karachi\"]"
   ]
  },
  {
   "cell_type": "code",
   "execution_count": 141,
   "id": "87a0e5c1",
   "metadata": {},
   "outputs": [
    {
     "name": "stdout",
     "output_type": "stream",
     "text": [
      "Please input your city's name: Lahore\n",
      "Your city didn't participate in PSL.\n",
      "Your city didn't participate in PSL.\n",
      "Your city was a part of PSL.\n",
      "Your city didn't participate in PSL.\n",
      "Your city didn't participate in PSL.\n",
      "Your city didn't participate in PSL.\n"
     ]
    }
   ],
   "source": [
    "city_name = input(\"Please input your city's name: \")\n",
    "\n",
    "for city in psl_cities:\n",
    "    if city == city_name:\n",
    "        print(\"Your city was a part of PSL.\")\n",
    "    else:\n",
    "        print(\"Your city didn't participate in PSL.\")"
   ]
  },
  {
   "cell_type": "code",
   "execution_count": 144,
   "id": "6dbf0e14",
   "metadata": {},
   "outputs": [
    {
     "name": "stdout",
     "output_type": "stream",
     "text": [
      "Please input your city's name: quetta\n",
      "You were a part of PSL.\n"
     ]
    }
   ],
   "source": [
    "psl_cities = [\"Peshawar\", \"Islamabad\", \"Lahore\", \"Multan\", \"Quetta\", \"Karachi\"]\n",
    "\n",
    "city = input(\"Please input your city's name: \")\n",
    "city = city.title()\n",
    "\n",
    "if city in psl_cities:\n",
    "    print(\"You were a part of PSL.\")\n",
    "else:\n",
    "    print(\"You didn't participate in PSL.\")"
   ]
  },
  {
   "cell_type": "code",
   "execution_count": 142,
   "id": "68777c04",
   "metadata": {},
   "outputs": [
    {
     "name": "stdout",
     "output_type": "stream",
     "text": [
      "Please input your city's name: lahore\n",
      "Your city didn't participate in PSL.\n",
      "Your city didn't participate in PSL.\n",
      "Your city was a part of PSL.\n",
      "Your city didn't participate in PSL.\n",
      "Your city didn't participate in PSL.\n",
      "Your city didn't participate in PSL.\n"
     ]
    }
   ],
   "source": [
    "city_name = input(\"Please input your city's name: \")\n",
    "city_name = city_name.title()\n",
    "\n",
    "for city in psl_cities:\n",
    "    if city == city_name:\n",
    "        print(\"Your city was a part of PSL.\")\n",
    "    else:\n",
    "        print(\"Your city didn't participate in PSL.\")"
   ]
  },
  {
   "cell_type": "code",
   "execution_count": null,
   "id": "8910272a",
   "metadata": {},
   "outputs": [],
   "source": []
  }
 ],
 "metadata": {
  "kernelspec": {
   "display_name": "Python 3",
   "language": "python",
   "name": "python3"
  },
  "language_info": {
   "codemirror_mode": {
    "name": "ipython",
    "version": 3
   },
   "file_extension": ".py",
   "mimetype": "text/x-python",
   "name": "python",
   "nbconvert_exporter": "python",
   "pygments_lexer": "ipython3",
   "version": "3.8.8"
  }
 },
 "nbformat": 4,
 "nbformat_minor": 5
}
