{
 "cells": [
  {
   "cell_type": "code",
   "execution_count": 23,
   "id": "42664952",
   "metadata": {},
   "outputs": [],
   "source": [
    "def display_result(winner, score, **other_info):\n",
    "    print(\"The winner was: \" + winner)\n",
    "    print(\"The score was: \" + score)"
   ]
  },
  {
   "cell_type": "code",
   "execution_count": 24,
   "id": "c524c369",
   "metadata": {},
   "outputs": [
    {
     "name": "stdout",
     "output_type": "stream",
     "text": [
      "The winner was: Affan Hashmi\n",
      "The score was: 400\n"
     ]
    }
   ],
   "source": [
    "display_result(\"Affan Hashmi\", \"400\", first_name = \"Affan\", last_name = \"Hashmi\")"
   ]
  },
  {
   "cell_type": "code",
   "execution_count": 25,
   "id": "cfd2c501",
   "metadata": {},
   "outputs": [],
   "source": [
    "def display_result(winner, score, **other_info):\n",
    "    print(\"The winner was: \" + winner)\n",
    "    print(\"The score was: \" + score)\n",
    "    for key, value in other_info.items():\n",
    "        print(\"\\n\" + key + \" is: \" + value)"
   ]
  },
  {
   "cell_type": "code",
   "execution_count": 26,
   "id": "ebf89e1a",
   "metadata": {},
   "outputs": [
    {
     "name": "stdout",
     "output_type": "stream",
     "text": [
      "The winner was: Affan Hashmi\n",
      "The score was: 400\n",
      "\n",
      "first_name is: Affan\n",
      "\n",
      "last_name is: Hashmi\n"
     ]
    }
   ],
   "source": [
    "display_result(\"Affan Hashmi\", \"400\", first_name = \"Affan\", last_name = \"Hashmi\")"
   ]
  },
  {
   "cell_type": "code",
   "execution_count": 36,
   "id": "7f194568",
   "metadata": {},
   "outputs": [],
   "source": [
    "def pizza_order(pizza_size, pizza_flavour, **pizza_toppings):\n",
    "    print(\"Your selected Pizza Size is: \" + pizza_size)\n",
    "    print(\"Your selected Pizza Flavour is: \" + pizza_flavour)\n",
    "    for x, y in pizza_toppings.items():\n",
    "        print(\"Your selected \" + x + \" is: \" + y)"
   ]
  },
  {
   "cell_type": "code",
   "execution_count": 37,
   "id": "e01b3401",
   "metadata": {},
   "outputs": [
    {
     "name": "stdout",
     "output_type": "stream",
     "text": [
      "Your selected Pizza Size is: Large\n",
      "Your selected Pizza Flavour is: Creamy Tikka\n",
      "Your selected topping1 is: Extra Cheese\n",
      "Your selected topping2 is: Extra Chicken\n",
      "Your selected topping3 is: Mayonnaise Sauce\n",
      "Your selected drink is: Pakola\n"
     ]
    }
   ],
   "source": [
    "pizza_order(\"Large\", \"Creamy Tikka\", topping1 = \"Extra Cheese\", topping2 = \"Extra Chicken\", topping3 = \"Mayonnaise Sauce\", drink = \"Pakola\")"
   ]
  },
  {
   "cell_type": "code",
   "execution_count": 41,
   "id": "8e8fbc43",
   "metadata": {},
   "outputs": [],
   "source": [
    "def adding_numbers(num1, num2, *other_numbers):\n",
    "    result = num1 + num2\n",
    "    for x in other_numbers:\n",
    "        result = result + x\n",
    "    print(result)"
   ]
  },
  {
   "cell_type": "code",
   "execution_count": 42,
   "id": "1c3c6f7e",
   "metadata": {},
   "outputs": [
    {
     "name": "stdout",
     "output_type": "stream",
     "text": [
      "450\n"
     ]
    }
   ],
   "source": [
    "adding_numbers(10, 20, 30, 40, 50, 60, 70, 80, 90)"
   ]
  },
  {
   "cell_type": "code",
   "execution_count": 47,
   "id": "5cffcf95",
   "metadata": {},
   "outputs": [],
   "source": [
    "def subtracting_numbers(num1, num2, *other_numbers):\n",
    "    result = num1 - num2\n",
    "    for x in other_numbers:\n",
    "        result = result - x\n",
    "    print(result)"
   ]
  },
  {
   "cell_type": "code",
   "execution_count": 48,
   "id": "c82ca281",
   "metadata": {},
   "outputs": [
    {
     "name": "stdout",
     "output_type": "stream",
     "text": [
      "-270\n"
     ]
    }
   ],
   "source": [
    "subtracting_numbers(90, 80, 70, 60, 50, 40, 30, 20, 10)"
   ]
  },
  {
   "cell_type": "code",
   "execution_count": 50,
   "id": "fa8b2700",
   "metadata": {},
   "outputs": [
    {
     "name": "stdout",
     "output_type": "stream",
     "text": [
      "Hello from user!\n",
      "Hello from function!\n"
     ]
    }
   ],
   "source": [
    "greeting = \"Hello from user!\"\n",
    "def show_hello():\n",
    "    greet = \"Hello from function!\"\n",
    "    print(greet)\n",
    "print(greeting)\n",
    "show_hello()"
   ]
  },
  {
   "cell_type": "code",
   "execution_count": 71,
   "id": "b51110a1",
   "metadata": {},
   "outputs": [
    {
     "name": "stdout",
     "output_type": "stream",
     "text": [
      "Enter a number, or \"q\" to quit: 4\n",
      "4\n",
      "Enter a number, or \"q\" to quit: q\n",
      "q\n"
     ]
    }
   ],
   "source": [
    "user_input = \"\"\n",
    "while user_input != \"q\":\n",
    "    user_input = input('Enter a number, or \"q\" to quit: ')\n",
    "    print(user_input)"
   ]
  },
  {
   "cell_type": "code",
   "execution_count": 76,
   "id": "e3613562",
   "metadata": {},
   "outputs": [
    {
     "name": "stdout",
     "output_type": "stream",
     "text": [
      "Enter first number: 2\n",
      "Enter second number: 8\n",
      "10\n",
      "Press \"c\" to continue or \"q\" to quit the program: c\n",
      "Enter first number: 9\n",
      "Enter second number: 3\n",
      "12\n",
      "Press \"c\" to continue or \"q\" to quit the program: q\n"
     ]
    }
   ],
   "source": [
    "user_input = \"\"\n",
    "\n",
    "while user_input != \"q\":\n",
    "    num1 = int(input(\"Enter first number: \"))\n",
    "    num2 = int(input(\"Enter second number: \"))\n",
    "    user_input = num1 + num2\n",
    "    print(user_input)\n",
    "    user_input = input('Press \"c\" to continue or \"q\" to quit the program: ')"
   ]
  },
  {
   "cell_type": "code",
   "execution_count": null,
   "id": "57c05bdd",
   "metadata": {},
   "outputs": [],
   "source": []
  }
 ],
 "metadata": {
  "kernelspec": {
   "display_name": "Python 3",
   "language": "python",
   "name": "python3"
  },
  "language_info": {
   "codemirror_mode": {
    "name": "ipython",
    "version": 3
   },
   "file_extension": ".py",
   "mimetype": "text/x-python",
   "name": "python",
   "nbconvert_exporter": "python",
   "pygments_lexer": "ipython3",
   "version": "3.8.8"
  }
 },
 "nbformat": 4,
 "nbformat_minor": 5
}
