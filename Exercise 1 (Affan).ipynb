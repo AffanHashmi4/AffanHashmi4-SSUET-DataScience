{
  "nbformat": 4,
  "nbformat_minor": 0,
  "metadata": {
    "colab": {
      "name": "Exercise # 1 (Affan)",
      "provenance": [],
      "collapsed_sections": [],
      "authorship_tag": "ABX9TyPI5tObq7OEk7/vDy1pNXXd"
    },
    "kernelspec": {
      "name": "python3",
      "display_name": "Python 3"
    },
    "language_info": {
      "name": "python"
    }
  },
  "cells": [
    {
      "cell_type": "code",
      "metadata": {
        "colab": {
          "base_uri": "https://localhost:8080/"
        },
        "id": "9KIWOFu4t88J",
        "outputId": "f32e68c1-a196-48c8-f09a-67602b834532"
      },
      "source": [
        "#Answer - 1:\n",
        "\n",
        "name = input(\"What is your name?: \")\n",
        "if name == \"Bond\":\n",
        "  print(\"Welcome on board 007.\")\n",
        "else:\n",
        "  print(\"Good morning \" + name + \"!\")"
      ],
      "execution_count": null,
      "outputs": [
        {
          "output_type": "stream",
          "text": [
            "What is your name?: Affan\n",
            "Good morning Affan!\n"
          ],
          "name": "stdout"
        }
      ]
    },
    {
      "cell_type": "code",
      "metadata": {
        "colab": {
          "base_uri": "https://localhost:8080/"
        },
        "id": "E6fQ3oadxZ8n",
        "outputId": "aa69465d-06d4-4290-c03a-e498ab2f2474"
      },
      "source": [
        "#Answer - 2:\n",
        "\n",
        "for abc in range(6):\n",
        "    for xyz in range(abc):\n",
        "        print(xyz +1,end=\" \")\n",
        "    print(\"\\n\")"
      ],
      "execution_count": 52,
      "outputs": [
        {
          "output_type": "stream",
          "text": [
            "\n",
            "\n",
            "1 \n",
            "\n",
            "1 2 \n",
            "\n",
            "1 2 3 \n",
            "\n",
            "1 2 3 4 \n",
            "\n",
            "1 2 3 4 5 \n",
            "\n"
          ],
          "name": "stdout"
        }
      ]
    },
    {
      "cell_type": "code",
      "metadata": {
        "colab": {
          "base_uri": "https://localhost:8080/"
        },
        "id": "IRdr6kPSyNFL",
        "outputId": "aca35360-dac1-4790-c9ab-40ef511d8453"
      },
      "source": [
        "#Answer - 3:\n",
        "\n",
        "num = int(input(\"Enter number: \"))\n",
        "\n",
        "result = 0\n",
        "\n",
        "for x in range(1, num + 1):\n",
        "    result = result + x\n",
        "print(\"Output is: \", result)"
      ],
      "execution_count": null,
      "outputs": [
        {
          "output_type": "stream",
          "text": [
            "Enter number: 10\n",
            "Output is:  55\n"
          ],
          "name": "stdout"
        }
      ]
    },
    {
      "cell_type": "code",
      "metadata": {
        "colab": {
          "base_uri": "https://localhost:8080/"
        },
        "id": "lqy8119G5xwr",
        "outputId": "53852544-10a0-4ad6-910a-3a7ffdbcaefc"
      },
      "source": [
        "#Answer - 4:\n",
        "\n",
        "num = int(input(\"Enter any number and I will tell you its multiplication table: \"))\n",
        "\n",
        "for x in range(1, 11):\n",
        "  print(num * x, end=\" \")"
      ],
      "execution_count": 56,
      "outputs": [
        {
          "output_type": "stream",
          "text": [
            "Enter any number and I will tell you its multiplication table: 2\n",
            "2 4 6 8 10 12 14 16 18 20 "
          ],
          "name": "stdout"
        }
      ]
    },
    {
      "cell_type": "code",
      "metadata": {
        "id": "BGEo5c2m-oIF",
        "colab": {
          "base_uri": "https://localhost:8080/"
        },
        "outputId": "ec072ed1-f561-4598-e3d9-23cea890160c"
      },
      "source": [
        "#Answer - 5:\n",
        "\n",
        "list1 = [12, 15, 32, 42, 55, 75, 122, 132, 150, 180, 200]\n",
        "\n",
        "for i in list1:\n",
        "  if i > 150:\n",
        "    break\n",
        "  remainder = i % 5\n",
        "  if remainder == 0:\n",
        "    print(i)"
      ],
      "execution_count": 61,
      "outputs": [
        {
          "output_type": "stream",
          "text": [
            "15\n",
            "55\n",
            "75\n",
            "150\n"
          ],
          "name": "stdout"
        }
      ]
    },
    {
      "cell_type": "code",
      "metadata": {
        "colab": {
          "base_uri": "https://localhost:8080/"
        },
        "id": "9f9DBJD-FHFr",
        "outputId": "d7c6364f-737f-45e9-ca0d-27a13b73f674"
      },
      "source": [
        "#Answer - 6:\n",
        "\n",
        "x = input(\"Write any number and I will tell the number of digits: \")\n",
        "\n",
        "print(len(x))"
      ],
      "execution_count": 63,
      "outputs": [
        {
          "output_type": "stream",
          "text": [
            "Write any number and I will tell the number of digits: 75869\n",
            "5\n"
          ],
          "name": "stdout"
        }
      ]
    },
    {
      "cell_type": "code",
      "metadata": {
        "colab": {
          "base_uri": "https://localhost:8080/"
        },
        "id": "ddsYKMwzFvDK",
        "outputId": "373d03b7-d5a8-4c8c-a160-c43992b9cdeb"
      },
      "source": [
        "#Answer - 7:\n",
        "\n",
        "list2 = [10, 20, 30, 40, 50]\n",
        "\n",
        "print(list2[::-1])"
      ],
      "execution_count": 65,
      "outputs": [
        {
          "output_type": "stream",
          "text": [
            "[50, 40, 30, 20, 10]\n"
          ],
          "name": "stdout"
        }
      ]
    },
    {
      "cell_type": "code",
      "metadata": {
        "colab": {
          "base_uri": "https://localhost:8080/"
        },
        "id": "M6L8eOAlMTEZ",
        "outputId": "3b4b3709-1bad-4d25-cf60-6e880df44d07"
      },
      "source": [
        "#Answer - 8:\n",
        "\n",
        "number_to_reverse = input(\"Enter a number and I will reverse it: \")\n",
        "input_number = int(number_to_reverse)\n",
        "\n",
        "for x in range (len(number_to_reverse)):\n",
        "    remainder = input_number % 10\n",
        "    input_number = int(input_number / 10)\n",
        "    print(remainder, end = \"\")"
      ],
      "execution_count": 75,
      "outputs": [
        {
          "output_type": "stream",
          "text": [
            "Enter a number and I will reverse it: 76542\n",
            "24567"
          ],
          "name": "stdout"
        }
      ]
    },
    {
      "cell_type": "code",
      "metadata": {
        "colab": {
          "base_uri": "https://localhost:8080/"
        },
        "id": "Lsd4HfLJdnNZ",
        "outputId": "f53d231b-e647-49ea-8ab9-43afa8479f53"
      },
      "source": [
        "#Answer - 9:\n",
        "\n",
        "num = int(input(\"Enter a number and I will tell you its cube: \"))\n",
        "\n",
        "print(num*num*num)"
      ],
      "execution_count": 77,
      "outputs": [
        {
          "output_type": "stream",
          "text": [
            "Enter a number and I will tell you its cube: 2\n",
            "8\n"
          ],
          "name": "stdout"
        }
      ]
    },
    {
      "cell_type": "code",
      "metadata": {
        "colab": {
          "base_uri": "https://localhost:8080/"
        },
        "id": "xLJItxathMFo",
        "outputId": "34f40e6a-9fa6-41b7-e2cf-6f4a7e5926f5"
      },
      "source": [
        "#Answer - 10:\n",
        "\n",
        "num1 = int(input('Enter your first number: '))\n",
        "num2 = int(input('Enter your second number: '))\n",
        "if num1 > num2:\n",
        "    print('Your first number is greater than your second number.')\n",
        "else:\n",
        "    print('Your second number is greater than your first number.')"
      ],
      "execution_count": 79,
      "outputs": [
        {
          "output_type": "stream",
          "text": [
            "Enter your first number: 1\n",
            "Enter your second number: 5\n",
            "Your second number is greater than your first number.\n"
          ],
          "name": "stdout"
        }
      ]
    },
    {
      "cell_type": "code",
      "metadata": {
        "id": "MBVNwmaohzD9"
      },
      "source": [
        ""
      ],
      "execution_count": null,
      "outputs": []
    }
  ]
}