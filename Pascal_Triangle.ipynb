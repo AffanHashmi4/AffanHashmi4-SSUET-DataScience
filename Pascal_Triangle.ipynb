{
  "nbformat": 4,
  "nbformat_minor": 0,
  "metadata": {
    "colab": {
      "name": "Pascal Triangle.ipynb",
      "provenance": [],
      "authorship_tag": "ABX9TyOn2vL5toFOw6RO2GxooQ3g",
      "include_colab_link": true
    },
    "kernelspec": {
      "name": "python3",
      "display_name": "Python 3"
    },
    "language_info": {
      "name": "python"
    }
  },
  "cells": [
    {
      "cell_type": "markdown",
      "metadata": {
        "id": "view-in-github",
        "colab_type": "text"
      },
      "source": [
        "<a href=\"https://colab.research.google.com/github/AffanHashmi4/My-First-Repository/blob/main/Pascal_Triangle.ipynb\" target=\"_parent\"><img src=\"https://colab.research.google.com/assets/colab-badge.svg\" alt=\"Open In Colab\"/></a>"
      ]
    },
    {
      "cell_type": "code",
      "metadata": {
        "id": "CiBnRZF0-Ctu"
      },
      "source": [
        ""
      ],
      "execution_count": null,
      "outputs": []
    },
    {
      "cell_type": "markdown",
      "metadata": {
        "id": "ieLFbO-c-D2m"
      },
      "source": [
        "Printing the Pascal Triangle in Python.\n"
      ]
    },
    {
      "cell_type": "code",
      "metadata": {
        "colab": {
          "base_uri": "https://localhost:8080/"
        },
        "id": "dHpgePDdJfRU",
        "outputId": "c6de75e3-c660-4ce9-891a-3fe63de2333d"
      },
      "source": [
        "num_of_rows = int(input(\"Enter the number of rows : \"))\n",
        "for x in range(0, num_of_rows):\n",
        "    num = 1\n",
        "    for y in range(1, num_of_rows - x):\n",
        "        print(\" \", end = \"\")\n",
        "    \n",
        "    for z in range(0, x + 1):\n",
        "        print(\" \", num, end = \"\")\n",
        "        num = int(num * (x - z) / (z + 1))\n",
        "    print()"
      ],
      "execution_count": null,
      "outputs": [
        {
          "output_type": "stream",
          "text": [
            "Enter the number of rows : 8\n",
            "         1\n",
            "        1  1\n",
            "       1  2  1\n",
            "      1  3  3  1\n",
            "     1  4  6  4  1\n",
            "    1  5  10  10  5  1\n",
            "   1  6  15  20  15  6  1\n",
            "  1  7  21  35  35  21  7  1\n"
          ],
          "name": "stdout"
        }
      ]
    },
    {
      "cell_type": "code",
      "metadata": {
        "id": "EIDyRijwPjpb"
      },
      "source": [
        ""
      ],
      "execution_count": null,
      "outputs": []
    }
  ]
}