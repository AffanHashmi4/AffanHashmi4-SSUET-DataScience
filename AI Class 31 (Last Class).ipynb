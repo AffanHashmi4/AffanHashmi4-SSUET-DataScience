{
  "nbformat": 4,
  "nbformat_minor": 0,
  "metadata": {
    "colab": {
      "name": "AI Class 31 (Last Class)",
      "provenance": [],
      "authorship_tag": "ABX9TyMOx2Li1995uxzJLrklDcGw",
      "include_colab_link": true
    },
    "kernelspec": {
      "name": "python3",
      "display_name": "Python 3"
    },
    "language_info": {
      "name": "python"
    }
  },
  "cells": [
    {
      "cell_type": "markdown",
      "metadata": {
        "id": "view-in-github",
        "colab_type": "text"
      },
      "source": [
        "<a href=\"https://colab.research.google.com/github/AffanHashmi4/AffanHashmi4-SSUET-DataScience/blob/main/AI%20Class%2031%20(Last%20Class).ipynb\" target=\"_parent\"><img src=\"https://colab.research.google.com/assets/colab-badge.svg\" alt=\"Open In Colab\"/></a>"
      ]
    },
    {
      "cell_type": "markdown",
      "metadata": {
        "id": "ufKnobVfZIdW"
      },
      "source": [
        "***Sadly, last class with Sir Umair! We will miss you sir... :-(***\n"
      ]
    },
    {
      "cell_type": "code",
      "metadata": {
        "id": "POt9iXkCSWBc"
      },
      "source": [
        ""
      ],
      "execution_count": null,
      "outputs": []
    }
  ]
}