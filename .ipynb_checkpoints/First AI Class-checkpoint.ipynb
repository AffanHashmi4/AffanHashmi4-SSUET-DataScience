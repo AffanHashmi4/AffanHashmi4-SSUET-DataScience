{
 "cells": [
  {
   "cell_type": "code",
   "execution_count": 1,
   "id": "4a7292c0",
   "metadata": {},
   "outputs": [
    {
     "name": "stdout",
     "output_type": "stream",
     "text": [
      "Correct Password!\n"
     ]
    }
   ],
   "source": [
    "password = (\"affan4\")\n",
    "\n",
    "if password == \"affan4\":\n",
    "    print ('Correct Password!')\n",
    "else:\n",
    "    print('Incorrect Password, please try again!')\n",
    "    "
   ]
  },
  {
   "cell_type": "code",
   "execution_count": 2,
   "id": "b5c7633d",
   "metadata": {},
   "outputs": [
    {
     "name": "stdout",
     "output_type": "stream",
     "text": [
      "True!\n"
     ]
    }
   ],
   "source": [
    "num1 = 10\n",
    "num2 = 5\n",
    "if num1>num2:\n",
    "    print('True!')\n",
    "else:\n",
    "    print('False!')"
   ]
  },
  {
   "cell_type": "code",
   "execution_count": 20,
   "id": "86d7efdf",
   "metadata": {},
   "outputs": [
    {
     "name": "stdout",
     "output_type": "stream",
     "text": [
      "Recruit him!\n"
     ]
    }
   ],
   "source": [
    "weight = 300\n",
    "time = 6\n",
    "height = 5.8\n",
    "\n",
    "if('weight >= 300' and 'time <= 6' and 'height == 5.8'):\n",
    "    print('Recruit him!')"
   ]
  },
  {
   "cell_type": "code",
   "execution_count": 26,
   "id": "3a5ed425",
   "metadata": {},
   "outputs": [
    {
     "name": "stdout",
     "output_type": "stream",
     "text": [
      "ok\n"
     ]
    }
   ],
   "source": [
    "weight = 300\n",
    "time = 6\n",
    "height = 5.8\n",
    "\n",
    "if(weight >= 300):\n",
    "    if(time <= 6):\n",
    "        print(\"ok\")\n",
    "    elif(height == 5.8):\n",
    "        print('recruit him')\n",
    "else:\n",
    "    print('let him go')"
   ]
  },
  {
   "cell_type": "code",
   "execution_count": null,
   "id": "dc44aa9e",
   "metadata": {},
   "outputs": [],
   "source": []
  }
 ],
 "metadata": {
  "kernelspec": {
   "display_name": "Python 3",
   "language": "python",
   "name": "python3"
  },
  "language_info": {
   "codemirror_mode": {
    "name": "ipython",
    "version": 3
   },
   "file_extension": ".py",
   "mimetype": "text/x-python",
   "name": "python",
   "nbconvert_exporter": "python",
   "pygments_lexer": "ipython3",
   "version": "3.8.8"
  }
 },
 "nbformat": 4,
 "nbformat_minor": 5
}
