{
 "cells": [
  {
   "cell_type": "code",
   "execution_count": 8,
   "id": "2f603e97",
   "metadata": {},
   "outputs": [],
   "source": [
    "#Function type: Takes nothing, returns nothing:\n",
    "\n",
    "def add_two_numbers():\n",
    "    print(2 + 2)"
   ]
  },
  {
   "cell_type": "code",
   "execution_count": 9,
   "id": "7db5cb98",
   "metadata": {},
   "outputs": [
    {
     "name": "stdout",
     "output_type": "stream",
     "text": [
      "4\n"
     ]
    }
   ],
   "source": [
    " result = add_two_numbers()"
   ]
  },
  {
   "cell_type": "code",
   "execution_count": 10,
   "id": "4e4fe871",
   "metadata": {},
   "outputs": [
    {
     "name": "stdout",
     "output_type": "stream",
     "text": [
      "None\n"
     ]
    }
   ],
   "source": [
    "print(result)"
   ]
  },
  {
   "cell_type": "code",
   "execution_count": 11,
   "id": "deb99fd2",
   "metadata": {},
   "outputs": [
    {
     "name": "stdout",
     "output_type": "stream",
     "text": [
      "4\n"
     ]
    }
   ],
   "source": [
    "add_two_numbers()"
   ]
  },
  {
   "cell_type": "code",
   "execution_count": 13,
   "id": "8634c0ae",
   "metadata": {},
   "outputs": [
    {
     "name": "stdout",
     "output_type": "stream",
     "text": [
      "4\n",
      "None\n"
     ]
    }
   ],
   "source": [
    "print(add_two_numbers())"
   ]
  },
  {
   "cell_type": "code",
   "execution_count": 16,
   "id": "2538dbea",
   "metadata": {},
   "outputs": [],
   "source": [
    "#Function type: Takes something, returns nothing:\n",
    "\n",
    "def user_input_addition():\n",
    "    x = int(input(\"Enter first number: \"))\n",
    "    y = int(input(\"Enter second number: \"))\n",
    "    print(x + y)"
   ]
  },
  {
   "cell_type": "code",
   "execution_count": 17,
   "id": "34570aed",
   "metadata": {},
   "outputs": [
    {
     "name": "stdout",
     "output_type": "stream",
     "text": [
      "Enter first number: 5\n",
      "Enter second number: 4\n",
      "9\n"
     ]
    }
   ],
   "source": [
    "user_input_addition()"
   ]
  },
  {
   "cell_type": "code",
   "execution_count": 18,
   "id": "a990fa05",
   "metadata": {},
   "outputs": [],
   "source": [
    "def add_two_user_numbers(num1, num2):\n",
    "    print(num1 + num2)"
   ]
  },
  {
   "cell_type": "code",
   "execution_count": 19,
   "id": "ad048ce7",
   "metadata": {},
   "outputs": [
    {
     "name": "stdout",
     "output_type": "stream",
     "text": [
      "9\n"
     ]
    }
   ],
   "source": [
    "add_two_user_numbers(5, 4)"
   ]
  },
  {
   "cell_type": "code",
   "execution_count": 20,
   "id": "46752d13",
   "metadata": {},
   "outputs": [
    {
     "name": "stdout",
     "output_type": "stream",
     "text": [
      "45\n"
     ]
    }
   ],
   "source": [
    "def multiplication(num1, num2):\n",
    "    print(num1 * num2)\n",
    "    \n",
    "multiplication(5, 9)"
   ]
  },
  {
   "cell_type": "code",
   "execution_count": 21,
   "id": "0e75fb07",
   "metadata": {},
   "outputs": [
    {
     "name": "stdout",
     "output_type": "stream",
     "text": [
      "-4\n"
     ]
    }
   ],
   "source": [
    "def subtraction(num1, num2):\n",
    "    print(num1 - num2)\n",
    "    \n",
    "subtraction(5, 9)"
   ]
  },
  {
   "cell_type": "code",
   "execution_count": 24,
   "id": "ef8a1f48",
   "metadata": {},
   "outputs": [
    {
     "name": "stdout",
     "output_type": "stream",
     "text": [
      "5.0\n"
     ]
    }
   ],
   "source": [
    "def division(num1, num2):\n",
    "    print(num1 / num2)\n",
    "    \n",
    "division(35, 7)"
   ]
  },
  {
   "cell_type": "code",
   "execution_count": 45,
   "id": "1bd4cae2",
   "metadata": {},
   "outputs": [],
   "source": [
    "import random"
   ]
  },
  {
   "cell_type": "code",
   "execution_count": 46,
   "id": "309d1017",
   "metadata": {},
   "outputs": [],
   "source": [
    "#Take nothing, return something:\n",
    "\n",
    "def return_random_number():\n",
    "    number = random.randint(1, 10)\n",
    "    return number"
   ]
  },
  {
   "cell_type": "code",
   "execution_count": 61,
   "id": "0bf61185",
   "metadata": {},
   "outputs": [],
   "source": [
    "number_to_guess = return_random_number()"
   ]
  },
  {
   "cell_type": "code",
   "execution_count": 62,
   "id": "a909a478",
   "metadata": {},
   "outputs": [
    {
     "name": "stdout",
     "output_type": "stream",
     "text": [
      "7\n"
     ]
    }
   ],
   "source": [
    "print(number_to_guess)"
   ]
  },
  {
   "cell_type": "markdown",
   "id": "b6201333",
   "metadata": {},
   "source": [
    "Making a guessing game! "
   ]
  },
  {
   "cell_type": "code",
   "execution_count": 69,
   "id": "a39185d7",
   "metadata": {},
   "outputs": [
    {
     "name": "stdout",
     "output_type": "stream",
     "text": [
      "Guess the number that I am thinking of...: 3\n",
      "Incorrect Number guessed! Please try again 😝.\n"
     ]
    }
   ],
   "source": [
    "number_to_guess = return_random_number()\n",
    "\n",
    "user_input = int(input(\"Guess the number that I am thinking of...: \"))\n",
    "\n",
    "if user_input == number_to_guess:\n",
    "    print(\"Congratulations! You guessed the right number 👍.\")\n",
    "else:\n",
    "    print(\"Incorrect Number guessed! Please try again 😝.\")"
   ]
  },
  {
   "cell_type": "code",
   "execution_count": 72,
   "id": "a62e3502",
   "metadata": {},
   "outputs": [
    {
     "name": "stdout",
     "output_type": "stream",
     "text": [
      "Enter first number: 3\n",
      "Enter second number: 2\n",
      "5\n"
     ]
    }
   ],
   "source": [
    "#Take something, return something:\n",
    "\n",
    "def adding_nums(num1, num2):\n",
    "    nums = num1 + num2\n",
    "    return nums\n",
    "\n",
    "num1 = int(input(\"Enter first number: \"))\n",
    "num2 = int(input(\"Enter second number: \"))\n",
    "\n",
    "answer = adding_nums(num1, num2)\n",
    "print(answer)"
   ]
  },
  {
   "cell_type": "code",
   "execution_count": 73,
   "id": "ccaf6641",
   "metadata": {},
   "outputs": [
    {
     "name": "stdout",
     "output_type": "stream",
     "text": [
      "Enter first number: 5\n",
      "Enter second number: 3\n",
      "2\n"
     ]
    }
   ],
   "source": [
    "def subtracting_nums(num1, num2):\n",
    "    nums = num1 - num2\n",
    "    return nums\n",
    "\n",
    "num1 = int(input(\"Enter first number: \"))\n",
    "num2 = int(input(\"Enter second number: \"))\n",
    "\n",
    "answer = subtracting_nums(num1, num2)\n",
    "print(answer)"
   ]
  },
  {
   "cell_type": "code",
   "execution_count": 74,
   "id": "3c156c14",
   "metadata": {},
   "outputs": [
    {
     "name": "stdout",
     "output_type": "stream",
     "text": [
      "Enter first number: 5\n",
      "Enter second number: 9\n",
      "45\n"
     ]
    }
   ],
   "source": [
    "def multiplying_nums(num1, num2):\n",
    "    nums = num1 * num2\n",
    "    return nums\n",
    "\n",
    "num1 = int(input(\"Enter first number: \"))\n",
    "num2 = int(input(\"Enter second number: \"))\n",
    "\n",
    "answer = multiplying_nums(num1, num2)\n",
    "print(answer)"
   ]
  },
  {
   "cell_type": "code",
   "execution_count": 75,
   "id": "35f37c5b",
   "metadata": {},
   "outputs": [
    {
     "name": "stdout",
     "output_type": "stream",
     "text": [
      "Enter first number: 4\n",
      "Enter second number: 2\n",
      "2.0\n"
     ]
    }
   ],
   "source": [
    "def dividing_nums(num1, num2):\n",
    "    nums = num1 / num2\n",
    "    return nums\n",
    "\n",
    "num1 = int(input(\"Enter first number: \"))\n",
    "num2 = int(input(\"Enter second number: \"))\n",
    "\n",
    "answer = dividing_nums(num1, num2)\n",
    "print(answer)"
   ]
  },
  {
   "cell_type": "code",
   "execution_count": 92,
   "id": "3969f18b",
   "metadata": {},
   "outputs": [],
   "source": [
    "def calc_tax(total_amount):\n",
    "    result = total_amount * 0.06\n",
    "    total_price = result + total_amount\n",
    "    print(total_price)"
   ]
  },
  {
   "cell_type": "code",
   "execution_count": 93,
   "id": "9e706c34",
   "metadata": {},
   "outputs": [
    {
     "name": "stdout",
     "output_type": "stream",
     "text": [
      "1272.0\n"
     ]
    }
   ],
   "source": [
    "calc_tax(1200)"
   ]
  },
  {
   "cell_type": "code",
   "execution_count": 94,
   "id": "270191a9",
   "metadata": {},
   "outputs": [],
   "source": [
    "def calc_tax(total_amount, tax_ratio = 0.06):\n",
    "    result = total_amount * tax_ratio\n",
    "    total_price = result + total_amount\n",
    "    print(total_price)"
   ]
  },
  {
   "cell_type": "code",
   "execution_count": 97,
   "id": "16f9bb36",
   "metadata": {},
   "outputs": [
    {
     "name": "stdout",
     "output_type": "stream",
     "text": [
      "1224.0\n"
     ]
    }
   ],
   "source": [
    "calc_tax(1200, 0.02)"
   ]
  }
 ],
 "metadata": {
  "kernelspec": {
   "display_name": "Python 3",
   "language": "python",
   "name": "python3"
  },
  "language_info": {
   "codemirror_mode": {
    "name": "ipython",
    "version": 3
   },
   "file_extension": ".py",
   "mimetype": "text/x-python",
   "name": "python",
   "nbconvert_exporter": "python",
   "pygments_lexer": "ipython3",
   "version": "3.8.8"
  }
 },
 "nbformat": 4,
 "nbformat_minor": 5
}
