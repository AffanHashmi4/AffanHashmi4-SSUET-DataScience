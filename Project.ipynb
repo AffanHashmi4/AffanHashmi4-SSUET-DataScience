{
 "cells": [
  {
   "cell_type": "code",
   "execution_count": 22,
   "id": "e126eeda",
   "metadata": {},
   "outputs": [],
   "source": [
    "customers = []"
   ]
  },
  {
   "cell_type": "code",
   "execution_count": 28,
   "id": "05f29f35",
   "metadata": {},
   "outputs": [
    {
     "name": "stdout",
     "output_type": "stream",
     "text": [
      "Enter your name: Affan\n",
      "Enter your father's name: Uzair\n",
      "Enter your Date of Birth: 15 July, 2008\n",
      "What is your gender? Male\n",
      "Enter your current city: Karachi\n",
      "Enter your Mobile Number: 03048519436\n",
      "How many family members do you have except you?4\n",
      "Press \"c\" to continue or \"q\" to quit the program: c\n",
      "Enter your name: Ali\n",
      "Enter your father's name: Shuja\n",
      "Enter your Date of Birth: 2005\n",
      "What is your gender? male\n",
      "Enter your current city: melbourne\n",
      "Enter your Mobile Number: 4827659813746598137\n",
      "How many family members do you have except you?6\n",
      "Press \"c\" to continue or \"q\" to quit the program: q\n"
     ]
    }
   ],
   "source": [
    "user_input = \"\"\n",
    "\n",
    "while user_input != \"q\":\n",
    "    name = input(\"Enter your name: \")\n",
    "    father_name = input(\"Enter your father's name: \")\n",
    "    dob = input(\"Enter your Date of Birth: \")\n",
    "    gender = input(\"What is your gender? \")\n",
    "    city = input(\"Enter your current city: \")\n",
    "    number = input(\"Enter your Mobile Number: \")\n",
    "    family_members = input(\"How many family members do you have except you?\")\n",
    "    \n",
    "    user_input = input('Press \"c\" to continue or \"q\" to quit the program: ')\n",
    "    \n",
    "    temp_dict = {}\n",
    "    \n",
    "    temp_dict[\"Name\"] = name\n",
    "    temp_dict[\"Father Name\"] = father_name\n",
    "    temp_dict[\"Date of Birth\"] = dob\n",
    "    temp_dict[\"Gender\"] = gender\n",
    "    temp_dict[\"City\"] = city\n",
    "    temp_dict[\"Number\"] = number\n",
    "    temp_dict[\"Family Members\"] = family_members\n",
    "    \n",
    "customers.append(temp_dict)"
   ]
  },
  {
   "cell_type": "code",
   "execution_count": 29,
   "id": "d9070253",
   "metadata": {},
   "outputs": [
    {
     "data": {
      "text/plain": [
       "[{'Name': 'Haris',\n",
       "  'Father Name': 'Khurram',\n",
       "  'Date of Birth': '200',\n",
       "  'Gender': 'male',\n",
       "  'City': 'kjarachi',\n",
       "  'Number': '4865186543638642864',\n",
       "  'Family Members': '3'},\n",
       " {'Name': 'terwsj',\n",
       "  'Father Name': 'terjjt',\n",
       "  'Date of Birth': 'terj',\n",
       "  'Gender': 'tj',\n",
       "  'City': 'terj',\n",
       "  'Number': 'ter',\n",
       "  'Family Members': 'ter'},\n",
       " {'Name': 'Ali',\n",
       "  'Father Name': 'Shuja',\n",
       "  'Date of Birth': '2005',\n",
       "  'Gender': 'male',\n",
       "  'City': 'melbourne',\n",
       "  'Number': '4827659813746598137',\n",
       "  'Family Members': '6'}]"
      ]
     },
     "execution_count": 29,
     "metadata": {},
     "output_type": "execute_result"
    }
   ],
   "source": [
    "customers"
   ]
  },
  {
   "cell_type": "code",
   "execution_count": null,
   "id": "3e3fd884",
   "metadata": {},
   "outputs": [],
   "source": []
  }
 ],
 "metadata": {
  "kernelspec": {
   "display_name": "Python 3",
   "language": "python",
   "name": "python3"
  },
  "language_info": {
   "codemirror_mode": {
    "name": "ipython",
    "version": 3
   },
   "file_extension": ".py",
   "mimetype": "text/x-python",
   "name": "python",
   "nbconvert_exporter": "python",
   "pygments_lexer": "ipython3",
   "version": "3.8.8"
  }
 },
 "nbformat": 4,
 "nbformat_minor": 5
}
