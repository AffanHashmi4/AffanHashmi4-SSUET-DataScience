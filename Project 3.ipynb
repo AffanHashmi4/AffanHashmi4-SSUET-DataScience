{
 "cells": [
  {
   "cell_type": "code",
   "execution_count": 41,
   "id": "d450aaa6",
   "metadata": {},
   "outputs": [],
   "source": [
    "employees = {}"
   ]
  },
  {
   "cell_type": "code",
   "execution_count": 56,
   "id": "7101af82",
   "metadata": {},
   "outputs": [],
   "source": [
    "def emp_creation(employees):\n",
    "    user_input_c = \"\"\n",
    "    if emp_c == \"1\":\n",
    "        while user_input_c != \"q\":\n",
    "            emp_id = input(\"Enter id: \") \n",
    "            emp_name = input(\"Enter name: \")\n",
    "            emp_type = input(\"Enter type: \")\n",
    "            emp_age = input(\"Enter age: \")\n",
    "            emp_status = input(\"Enter status: \")\n",
    "            emp_kids = input(\"Enter number of kids: \")\n",
    "            emp_years = input(\"Enter years of experience: \")\n",
    "            emp = {}\n",
    "            emp['id'] = emp_id\n",
    "            emp['name'] = emp_name\n",
    "            emp['type'] = emp_type\n",
    "            emp['age'] = emp_age\n",
    "            emp['status'] = emp_status\n",
    "            emp['kids'] = emp_kids\n",
    "            emp['years'] = emp_years\n",
    "            employees[emp_id] = emp\n",
    "            user_input_c = input(\"Press q to exit the program.\")\n",
    "                \n",
    "temp_id = \"\"\n",
    "def emp_update(employees, temp_id):\n",
    "    user_input_u = \"\"\n",
    "    if emp_u == \"2\":\n",
    "        temp_id = input(\"Enter the ID through what you want to edit: \")\n",
    "        while user_input_u != \"q\":\n",
    "            employees[temp_id]['id'] = input(\"Enter id: \") \n",
    "            employees[temp_id][\"name\"] = input(\"Enter name: \")\n",
    "            employees[temp_id][\"type\"] = input(\"Enter type: \")\n",
    "            employees[temp_id][\"age\"] = input(\"Enter age: \")\n",
    "            employees[temp_id][\"status\"] = input(\"Enter status: \")\n",
    "            employees[temp_id][\"kids\"] = input(\"Enter number of kids: \")\n",
    "            employees[temp_id][\"years\"] = input(\"Enter years of experience: \")\n",
    "            user_input_u = input(\"Press q to exit the program.\")\n",
    "                \n",
    "def emp_read(employees):\n",
    "    user_input_r = \"\"\n",
    "    if emp_r == \"3\":\n",
    "        while user_input_r != \"q\":\n",
    "            type_search = input(\"Through which type you want to search your data: \")\n",
    "            if type_search == \"id\":\n",
    "                input_id = input('Enter the id: ')\n",
    "                print(employees[input_id])\n",
    "            user_input_r = input(\"Press q to exit the program.\")\n",
    "\n",
    "def emp_delete(employees):\n",
    "    user_input_d = \"\"\n",
    "    if emp_d == \"4\":\n",
    "        while user_input_d != \"q\":\n",
    "            input_key = input('Enter the key of whatever you want to delete: ')\n",
    "            del employees[input_key]\n",
    "            user_input_d = input(\"Press q to exit the program.\")"
   ]
  },
  {
   "cell_type": "code",
   "execution_count": 57,
   "id": "e27f7f71",
   "metadata": {},
   "outputs": [
    {
     "name": "stdout",
     "output_type": "stream",
     "text": [
      "Press 1 to enter a new employee record: q\n",
      "Press 2 to update an existing record.2\n",
      "Enter the ID through what you want to edit: 1234\n",
      "Enter id: 911\n",
      "Enter name: affan\n",
      "Enter type: boss\n",
      "Enter age: 78\n",
      "Enter status: single\n",
      "Enter number of kids: 0\n",
      "Enter years of experience: 999999999\n",
      "Press q to exit the program.q\n",
      "Press 3 to search from the employee records.q\n",
      "Press 4 to remove a record.q\n",
      "Press q to exit the program.q\n"
     ]
    }
   ],
   "source": [
    "user_input = \"\"\n",
    "\n",
    "while user_input != \"q\":\n",
    "    emp_c = input(\"Press 1 to enter a new employee record: \")\n",
    "    if emp_c == \"1\":\n",
    "        emp_creation(employees)\n",
    "    emp_u = input(\"Press 2 to update an existing record.\")\n",
    "    if emp_u == \"2\":\n",
    "        emp_update(employees, temp_id)\n",
    "    emp_r = input(\"Press 3 to search from the employee records.\")\n",
    "    if emp_r == \"3\":\n",
    "        emp_read(employees)\n",
    "    emp_d = input(\"Press 4 to remove a record.\")\n",
    "    if emp_d == \"4\":\n",
    "        emp_delete(employees)\n",
    "    user_input = input(\"Press q to exit the program.\")"
   ]
  },
  {
   "cell_type": "code",
   "execution_count": 58,
   "id": "fa2e4ba3",
   "metadata": {},
   "outputs": [
    {
     "name": "stdout",
     "output_type": "stream",
     "text": [
      "{'1234': {'id': '911', 'name': 'affan', 'type': 'boss', 'age': '78', 'status': 'single', 'kids': '0', 'years': '999999999'}, '5678': {'id': '5678', 'name': 'Faisal', 'type': 'manager', 'age': '67', 'status': 'married', 'kids': '6', 'years': '45'}, 'id': '5678', 'name': 'syed', 'type': 'boss', 'age': '34', 'status': 'married', 'years': '5'}\n"
     ]
    }
   ],
   "source": [
    "print(employees)"
   ]
  },
  {
   "cell_type": "code",
   "execution_count": null,
   "id": "5a8dadba",
   "metadata": {},
   "outputs": [],
   "source": []
  }
 ],
 "metadata": {
  "kernelspec": {
   "display_name": "Python 3",
   "language": "python",
   "name": "python3"
  },
  "language_info": {
   "codemirror_mode": {
    "name": "ipython",
    "version": 3
   },
   "file_extension": ".py",
   "mimetype": "text/x-python",
   "name": "python",
   "nbconvert_exporter": "python",
   "pygments_lexer": "ipython3",
   "version": "3.8.8"
  }
 },
 "nbformat": 4,
 "nbformat_minor": 5
}
