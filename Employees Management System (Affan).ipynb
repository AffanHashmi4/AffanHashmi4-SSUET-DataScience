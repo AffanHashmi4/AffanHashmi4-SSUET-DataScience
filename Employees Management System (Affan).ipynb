{
  "nbformat": 4,
  "nbformat_minor": 0,
  "metadata": {
    "colab": {
      "name": "Employees Management System (Affan)",
      "provenance": [],
      "authorship_tag": "ABX9TyN6z1wuAaUzgn47bln9bUH9",
      "include_colab_link": true
    },
    "kernelspec": {
      "name": "python3",
      "display_name": "Python 3"
    },
    "language_info": {
      "name": "python"
    }
  },
  "cells": [
    {
      "cell_type": "markdown",
      "metadata": {
        "id": "view-in-github",
        "colab_type": "text"
      },
      "source": [
        "<a href=\"https://colab.research.google.com/github/AffanHashmi4/My-First-Repository/blob/main/Employees%20Management%20System%20(Affan).ipynb\" target=\"_parent\"><img src=\"https://colab.research.google.com/assets/colab-badge.svg\" alt=\"Open In Colab\"/></a>"
      ]
    },
    {
      "cell_type": "code",
      "metadata": {
        "id": "pEQYL2Jr-_dq"
      },
      "source": [
        "employee = {}"
      ],
      "execution_count": null,
      "outputs": []
    },
    {
      "cell_type": "code",
      "metadata": {
        "id": "Jxosy5Va2Gx1"
      },
      "source": [
        "def employee_creation():\n",
        "\n",
        "    user_input = \"\"\n",
        "    while user_input != 'e':\n",
        "        user_input = input('Press 1 to create a new employee or press \"e\" to exit: ')\n",
        "        if user_input == '1':\n",
        "            e_dict = {}\n",
        "            identity = input('Enter employee ID: ')\n",
        "            e_dict[\"name\"] = input('Enter employee name: ')\n",
        "            e_dict[\"type\"] = input('Enter employee type: ')\n",
        "            e_dict[\"age\"] = input('Enter employee age: ')\n",
        "            e_dict[\"status\"] = input('Enter employee status(married or unmarried): ')\n",
        "            e_dict[\"kids\"] = input('Enter employee kids(enter 0 if none): ')\n",
        "            e_dict[\"years\"]= input('Enter employee experience years: ')\n",
        "            user_input = input('To Exit, Press \"e\": ')\n",
        "            employee[identity]=e_dict\n",
        "\n",
        "def employee_update():\n",
        "    user_input = ''\n",
        "    while user_input != 'e':\n",
        "        user_input = input('Press 2 to update an employee or press \"e\" to exit: ')\n",
        "        if user_input == '2':\n",
        "          e_tempID = input('Enter employee id to be updated: ')\n",
        "                        \n",
        "          for empID in employee.keys():\n",
        "              if e_tempID==empID:\n",
        "                  update = input('What do you want to update: ')\n",
        "                  employee[e_tempID][update] = input(\"What is the new value: \")\n",
        "                  break\n",
        "\n",
        "def employee_view():\n",
        "    user_input = ''\n",
        "    while user_input != 'e':\n",
        "        user_input = input('Press 3 to view employees or press \"e\" to exit: ')\n",
        "        if user_input == '3':\n",
        "            e_tempID = input('Enter employee id to view details: ')\n",
        "            for empID in employee.keys():\n",
        "                if e_tempID==empID:\n",
        "                    print(employee[e_tempID])\n",
        "                    break\n",
        "\n",
        "def employee_delete():\n",
        "    user_input = ''\n",
        "    while user_input != 'e':\n",
        "        user_input = input('Press 4 to delete an employee or press \"e\" to exit: ')\n",
        "        if user_input == '4':\n",
        "            e_tempID = input('Enter employee id to delete: ')\n",
        "            for empID in employee.keys():\n",
        "                if e_tempID==empID:\n",
        "                    del employee[empID]\n",
        "                    break"
      ],
      "execution_count": null,
      "outputs": []
    },
    {
      "cell_type": "code",
      "metadata": {
        "id": "BWEbHKib3KOx",
        "colab": {
          "base_uri": "https://localhost:8080/"
        },
        "outputId": "8cff06b3-4a64-4242-b7a2-a5ba5f93c204"
      },
      "source": [
        "user_input = \"\"\n",
        "\n",
        "while user_input != \"q\":\n",
        "    print(\"Press 1 to enter a new employee record. \")\n",
        "    print(\"Press 2 to update an existing record.\")\n",
        "    print(\"Press 3 to search from the employee records.\")\n",
        "    print(\"Press 4 to remove a record.\")\n",
        "    print(\"Press q to exit the program.\")\n",
        "    user_input = input(\" \")\n",
        "    if user_input == \"1\":\n",
        "        employee_creation()\n",
        "    elif user_input == \"2\":\n",
        "        employee_update()\n",
        "    elif user_input == \"3\":\n",
        "        employee_view()\n",
        "    elif user_input == \"4\":\n",
        "        employee_delete()"
      ],
      "execution_count": null,
      "outputs": [
        {
          "output_type": "stream",
          "text": [
            "Press 1 to enter a new employee record. \n",
            "Press 2 to update an existing record.\n",
            "Press 3 to search from the employee records.\n",
            "Press 4 to remove a record.\n",
            "Press q to exit the program.\n",
            " 2\n",
            "Press 2 to update an employee or press \"e\" to exit: 2\n",
            "Enter employee id to be updated: 4444\n",
            "What do you want to update: age\n",
            "What is the new value: 40\n",
            "Press 2 to update an employee or press \"e\" to exit: e\n",
            "Press 1 to enter a new employee record. \n",
            "Press 2 to update an existing record.\n",
            "Press 3 to search from the employee records.\n",
            "Press 4 to remove a record.\n",
            "Press q to exit the program.\n",
            " 3\n",
            "Press 3 to view employees or press \"e\" to exit: 3\n",
            "Enter employee id to view details: 4444\n",
            "{'name': 'Affan', 'type': 'Boss', 'age': '40', 'status': 'Married', 'kids': '3', 'years': '11'}\n",
            "Press 3 to view employees or press \"e\" to exit: e\n",
            "Press 1 to enter a new employee record. \n",
            "Press 2 to update an existing record.\n",
            "Press 3 to search from the employee records.\n",
            "Press 4 to remove a record.\n",
            "Press q to exit the program.\n",
            " q\n"
          ],
          "name": "stdout"
        }
      ]
    },
    {
      "cell_type": "code",
      "metadata": {
        "id": "q9_UgnvP6Edf"
      },
      "source": [
        ""
      ],
      "execution_count": null,
      "outputs": []
    }
  ]
}