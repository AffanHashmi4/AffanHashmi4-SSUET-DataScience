{
 "cells": [
  {
   "cell_type": "code",
   "execution_count": 1,
   "id": "647caddc",
   "metadata": {},
   "outputs": [],
   "source": [
    "#Assignment 2"
   ]
  },
  {
   "cell_type": "code",
   "execution_count": 12,
   "id": "68a4392b",
   "metadata": {},
   "outputs": [
    {
     "name": "stdout",
     "output_type": "stream",
     "text": [
      "At least one of the condition is satisfied.\n"
     ]
    }
   ],
   "source": [
    "#Answer - 1:\n",
    "x = 8\n",
    "y = 15\n",
    "\n",
    "if x > 3 or y % 2 == 0:\n",
    "    print(\"At least one of the condition is satisfied.\")\n",
    "elif x <= 3 and y % 2 != 0:\n",
    "    print(\"Neither condition is satisfied.\")\n",
    "else:\n",
    "    print(\"Sorry, I am gone mad so I can not process your values!\")"
   ]
  },
  {
   "cell_type": "code",
   "execution_count": 15,
   "id": "dc837d5d",
   "metadata": {},
   "outputs": [
    {
     "name": "stdout",
     "output_type": "stream",
     "text": [
      "1505\n",
      "1540\n",
      "1575\n",
      "1610\n",
      "1645\n",
      "1680\n",
      "1715\n",
      "1750\n",
      "1785\n",
      "1820\n",
      "1855\n",
      "1890\n",
      "1925\n",
      "1960\n",
      "1995\n",
      "2030\n",
      "2065\n",
      "2100\n",
      "2135\n",
      "2170\n",
      "2205\n",
      "2240\n",
      "2275\n",
      "2310\n",
      "2345\n",
      "2380\n",
      "2415\n",
      "2450\n",
      "2485\n",
      "2520\n",
      "2555\n",
      "2590\n",
      "2625\n",
      "2660\n",
      "2695\n"
     ]
    }
   ],
   "source": [
    "#Answer - 2:\n",
    "for x in range(1500, 2701):\n",
    "    if x % 7 == 0 and x % 5 == 0:\n",
    "        print(x)"
   ]
  },
  {
   "cell_type": "code",
   "execution_count": 23,
   "id": "b9b51b16",
   "metadata": {},
   "outputs": [
    {
     "name": "stdout",
     "output_type": "stream",
     "text": [
      "45\n"
     ]
    }
   ],
   "source": [
    "#Answer - 3:\n",
    "y = 0\n",
    "for x in range(1, 10):\n",
    "    y = y + x\n",
    "print(y)"
   ]
  },
  {
   "cell_type": "code",
   "execution_count": 24,
   "id": "10f3ecee",
   "metadata": {},
   "outputs": [
    {
     "name": "stdout",
     "output_type": "stream",
     "text": [
      "Write any word and I will reverse it: naffA\n",
      "Affan\n"
     ]
    }
   ],
   "source": [
    "#Answer - 4:\n",
    "user_input = input(\"Write any word and I will reverse it: \")\n",
    "print(user_input[::-1])"
   ]
  },
  {
   "cell_type": "code",
   "execution_count": 38,
   "id": "b174dce1",
   "metadata": {},
   "outputs": [
    {
     "name": "stdout",
     "output_type": "stream",
     "text": [
      "1\n",
      "2\n",
      "Fizz\n",
      "4\n",
      "Buzz\n",
      "Fizz\n",
      "7\n",
      "8\n",
      "Fizz\n",
      "Buzz\n",
      "11\n",
      "Fizz\n",
      "13\n",
      "14\n",
      "FizzBuzz\n",
      "16\n",
      "17\n",
      "Fizz\n",
      "19\n",
      "Buzz\n",
      "Fizz\n",
      "22\n",
      "23\n",
      "Fizz\n",
      "Buzz\n",
      "26\n",
      "Fizz\n",
      "28\n",
      "29\n",
      "FizzBuzz\n",
      "31\n",
      "32\n",
      "Fizz\n",
      "34\n",
      "Buzz\n",
      "Fizz\n",
      "37\n",
      "38\n",
      "Fizz\n",
      "Buzz\n",
      "41\n",
      "Fizz\n",
      "43\n",
      "44\n",
      "FizzBuzz\n",
      "46\n",
      "47\n",
      "Fizz\n",
      "49\n"
     ]
    }
   ],
   "source": [
    "#Answer - 5:\n",
    "for x in range(1, 50):\n",
    "    if x % 3 == 0 and x % 5 == 0:\n",
    "        print(\"FizzBuzz\")\n",
    "    elif x % 3 == 0:\n",
    "        print(\"Fizz\")\n",
    "    elif x % 5 == 0:\n",
    "        print(\"Buzz\")\n",
    "    else:\n",
    "        print(x)"
   ]
  },
  {
   "cell_type": "code",
   "execution_count": 60,
   "id": "f524af8e",
   "metadata": {
    "scrolled": true
   },
   "outputs": [
    {
     "name": "stdout",
     "output_type": "stream",
     "text": [
      "1 \n",
      "\n",
      "1 2 \n",
      "\n",
      "1 2 3 \n",
      "\n",
      "1 2 3 4 \n",
      "\n",
      "1 2 3 4 5 \n",
      "\n"
     ]
    }
   ],
   "source": [
    "#Answer - 6:\n",
    "for x in range(1, 6):\n",
    "    for y in range(x):\n",
    "        print(y + 1, end = \" \")\n",
    "    print(\"\\n\")"
   ]
  },
  {
   "cell_type": "code",
   "execution_count": 85,
   "id": "502165fd",
   "metadata": {},
   "outputs": [
    {
     "name": "stdout",
     "output_type": "stream",
     "text": [
      "1 \n",
      "\n",
      "1 2 \n",
      "\n",
      "1 2 3 \n",
      "\n",
      "1 2 3 4 \n",
      "\n",
      "1 2 3 4 5 \n",
      "\n",
      "1 2 3 4 5 \n",
      "\n",
      "1 2 3 4 \n",
      "\n",
      "1 2 3 \n",
      "\n",
      "1 2 \n",
      "\n",
      "1 \n",
      "\n"
     ]
    }
   ],
   "source": [
    "#Answer - 7:\n",
    "for x in range(1, 6):\n",
    "    for y in range(x):\n",
    "        print(y + 1, end = \" \")\n",
    "    print(\"\\n\")\n",
    "for x in range(5, 0, -1):\n",
    "    for y in range(x):\n",
    "        print(y + 1, end = \" \")\n",
    "    print(\"\\n\")"
   ]
  },
  {
   "cell_type": "code",
   "execution_count": 87,
   "id": "8457ca26",
   "metadata": {},
   "outputs": [
    {
     "name": "stdout",
     "output_type": "stream",
     "text": [
      "1 \n",
      "\n",
      "1 2 \n",
      "\n",
      "1 2 3 \n",
      "\n",
      "1 2 3 4 \n",
      "\n",
      "1 2 3 4 5 \n",
      "\n",
      "1 2 3 4 \n",
      "\n",
      "1 2 3 \n",
      "\n",
      "1 2 \n",
      "\n",
      "1 \n",
      "\n"
     ]
    }
   ],
   "source": [
    "#Answer - 8:\n",
    "for x in range(1, 6):\n",
    "    for y in range(x):\n",
    "        print(y + 1, end = \" \")\n",
    "    print(\"\\n\")\n",
    "for x in range(4, 0, -1):\n",
    "    for y in range(x):\n",
    "        print(y + 1, end = \" \")\n",
    "    print(\"\\n\")"
   ]
  },
  {
   "cell_type": "code",
   "execution_count": null,
   "id": "ef931b9c",
   "metadata": {},
   "outputs": [],
   "source": []
  }
 ],
 "metadata": {
  "kernelspec": {
   "display_name": "Python 3",
   "language": "python",
   "name": "python3"
  },
  "language_info": {
   "codemirror_mode": {
    "name": "ipython",
    "version": 3
   },
   "file_extension": ".py",
   "mimetype": "text/x-python",
   "name": "python",
   "nbconvert_exporter": "python",
   "pygments_lexer": "ipython3",
   "version": "3.8.8"
  }
 },
 "nbformat": 4,
 "nbformat_minor": 5
}
