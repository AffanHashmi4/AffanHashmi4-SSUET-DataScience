{
 "cells": [
  {
   "cell_type": "code",
   "execution_count": 82,
   "id": "ad34c15a",
   "metadata": {},
   "outputs": [],
   "source": [
    "class Patient():\n",
    "    def __init__(self, first_name, last_name, age, number, disease, treatment, doctor_assigned):\n",
    "        self.firstname = first_name\n",
    "        self.lastname = last_name\n",
    "        self.age = age\n",
    "        self.number = number\n",
    "        self.disease = disease\n",
    "        self.treatment = treatment\n",
    "        self.doctorassigned = doctor_assigned\n",
    "    \n",
    "    def showfirstname(self):\n",
    "        print(\"Patient's First Name is:\", self.firstname)\n",
    "        \n",
    "    def showlastname(self):\n",
    "        print(\"Patient's Last Name is:\", self.lastname)\n",
    "    \n",
    "    def showage(self):\n",
    "        print(self.firstname, self.lastname + \"'s age is:\", self.age)\n",
    "        \n",
    "    def shownumber(self):\n",
    "        print(self.firstname, self.lastname + \"'s number is:\", self.number)\n",
    "        \n",
    "    def showdisease(self):\n",
    "        print(self.firstname, self.lastname + \"'s disease is:\", self.disease)\n",
    "        \n",
    "    def showtreatment(self):\n",
    "        print(self.firstname, self.lastname + \"'s treatment for\", self.disease, \"is:\", self.treatment)\n",
    "        \n",
    "    def showdoctorassigned(self):\n",
    "        print(self.firstname, self.lastname + \"'s doctor assigned for\", self.treatment, \"is:\", self.doctorassigned)\n",
    "\n",
    "    def showall(self):\n",
    "        print(\"Patient's First Name is:\", self.firstname)\n",
    "        print(\"Patient's Last Name is:\", self.lastname)\n",
    "        print(self.firstname, self.lastname + \"'s age is:\", self.age)\n",
    "        print(self.firstname, self.lastname + \"'s number is:\", self.number)\n",
    "        print(self.firstname, self.lastname + \"'s disease is:\", self.disease)\n",
    "        print(self.firstname, self.lastname + \"'s treatment for\", self.disease, \"is:\", self.treatment)\n",
    "        print(self.firstname, self.lastname + \"'s doctor assigned for\", self.treatment, \"is:\", self.doctorassigned)"
   ]
  },
  {
   "cell_type": "code",
   "execution_count": 83,
   "id": "0362cf4c",
   "metadata": {},
   "outputs": [],
   "source": [
    "patient_1 = Patient(\"Affan\", \"Hashmi\", \"13\", \"03048519436\", \"Heart Attack\", \"Cardial Surgery\", \"Dr. Umair\")"
   ]
  },
  {
   "cell_type": "code",
   "execution_count": 84,
   "id": "af20205b",
   "metadata": {},
   "outputs": [],
   "source": [
    "patient_2 = Patient(\"Mannan\", \"Hashmi\", \"10\", \"01234567890\", \"Mental Disorder\", \"Brain Replacement\", \"Dr. Sultan\")"
   ]
  },
  {
   "cell_type": "code",
   "execution_count": 85,
   "id": "ee842511",
   "metadata": {},
   "outputs": [],
   "source": [
    "patient_3 = Patient(\"Usman\", \"Hashmi\", \"16\", \"03042225383\", \"Obesity\", \"Extra fats removal\", \"Dr. Zaid\")"
   ]
  },
  {
   "cell_type": "code",
   "execution_count": 87,
   "id": "d341cde4",
   "metadata": {},
   "outputs": [
    {
     "name": "stdout",
     "output_type": "stream",
     "text": [
      "Patient's First Name is: Mannan\n",
      "Patient's Last Name is: Hashmi\n",
      "Mannan Hashmi's age is: 10\n",
      "Mannan Hashmi's number is: 01234567890\n",
      "Mannan Hashmi's disease is: Mental Disorder\n",
      "Mannan Hashmi's treatment for Mental Disorder is: Brain Replacement\n",
      "Mannan Hashmi's doctor assigned for Brain Replacement is: Dr. Sultan\n",
      "\n",
      "\n",
      "Patient's First Name is: Usman\n",
      "Patient's Last Name is: Hashmi\n",
      "Usman Hashmi's age is: 16\n",
      "Usman Hashmi's number is: 03042225383\n",
      "Usman Hashmi's disease is: Obesity\n",
      "Usman Hashmi's treatment for Obesity is: Extra fats removal\n",
      "Usman Hashmi's doctor assigned for Extra fats removal is: Dr. Zaid\n",
      "\n",
      "\n",
      "Patient's First Name is: Affan\n",
      "Patient's Last Name is: Hashmi\n",
      "Affan Hashmi's age is: 13\n",
      "Affan Hashmi's number is: 03048519436\n",
      "Affan Hashmi's disease is: Heart Attack\n",
      "Affan Hashmi's treatment for Heart Attack is: Cardial Surgery\n",
      "Affan Hashmi's doctor assigned for Cardial Surgery is: Dr. Umair\n"
     ]
    }
   ],
   "source": [
    "patient_2.showfirstname()\n",
    "patient_2.showlastname()\n",
    "patient_2.showage()\n",
    "patient_2.shownumber()\n",
    "patient_2.showdisease()\n",
    "patient_2.showtreatment()\n",
    "patient_2.showdoctorassigned()\n",
    "print(\"\\n\")\n",
    "patient_3.showall()\n",
    "print(\"\\n\")\n",
    "patient_1.showall()"
   ]
  },
  {
   "cell_type": "code",
   "execution_count": 88,
   "id": "5dcfe6dc",
   "metadata": {},
   "outputs": [
    {
     "name": "stdout",
     "output_type": "stream",
     "text": [
      "Mental Disorder\n"
     ]
    }
   ],
   "source": [
    "print(patient_2.disease)"
   ]
  },
  {
   "cell_type": "code",
   "execution_count": null,
   "id": "0012a9b2",
   "metadata": {},
   "outputs": [],
   "source": []
  }
 ],
 "metadata": {
  "kernelspec": {
   "display_name": "Python 3",
   "language": "python",
   "name": "python3"
  },
  "language_info": {
   "codemirror_mode": {
    "name": "ipython",
    "version": 3
   },
   "file_extension": ".py",
   "mimetype": "text/x-python",
   "name": "python",
   "nbconvert_exporter": "python",
   "pygments_lexer": "ipython3",
   "version": "3.8.8"
  }
 },
 "nbformat": 4,
 "nbformat_minor": 5
}
